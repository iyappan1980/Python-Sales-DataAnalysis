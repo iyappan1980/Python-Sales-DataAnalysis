{
  "nbformat": 4,
  "nbformat_minor": 0,
  "metadata": {
    "colab": {
      "provenance": []
    },
    "kernelspec": {
      "name": "python3",
      "display_name": "Python 3"
    },
    "language_info": {
      "name": "python"
    }
  },
  "cells": [
    {
      "cell_type": "code",
      "source": [
        "print(\"Hello World!\")"
      ],
      "metadata": {
        "colab": {
          "base_uri": "https://localhost:8080/"
        },
        "id": "gtNvuCj2AwMB",
        "outputId": "b12d1dce-290b-42a0-f846-16fa3053db95"
      },
      "execution_count": null,
      "outputs": [
        {
          "output_type": "stream",
          "name": "stdout",
          "text": [
            "Hello World!\n"
          ]
        }
      ]
    },
    {
      "cell_type": "code",
      "source": [
        "# Variables\n",
        "name = \"Vartika\" #STRING DATA TYPE\n",
        "age = 25 # INT DATA TYPE\n",
        "height = 5.4 # FLOAT DATA TYPE\n",
        "is_student = True #BOOL DATA TYPE\n",
        "\n",
        "print(\"Name:\", name)\n",
        "print(\"Age:\", age)\n",
        "print(\"Height:\", height)\n",
        "print(\"Is Student:\", is_student)"
      ],
      "metadata": {
        "colab": {
          "base_uri": "https://localhost:8080/"
        },
        "id": "KofIPukZ8BqA",
        "outputId": "97b52097-599c-4446-d5f2-f4d82205bee5"
      },
      "execution_count": null,
      "outputs": [
        {
          "output_type": "stream",
          "name": "stdout",
          "text": [
            "Name: Vartika <class 'str'>\n",
            "Age: 25\n",
            "Height: 5.4\n",
            "Is Student: True\n"
          ]
        }
      ]
    },
    {
      "cell_type": "code",
      "source": [
        "# Data Types\n",
        "\n",
        "print(\"Name:\", name,type(name))\n",
        "print(\"Age:\", age,type(age))\n",
        "print(\"Height:\", height,type(height))\n",
        "print(\"Is Student:\", is_student,  type(is_student))"
      ],
      "metadata": {
        "colab": {
          "base_uri": "https://localhost:8080/"
        },
        "id": "0ybAzTVx9CCh",
        "outputId": "d22881af-1991-4bc8-d4f3-8265da90f26c"
      },
      "execution_count": null,
      "outputs": [
        {
          "output_type": "stream",
          "name": "stdout",
          "text": [
            "Name: Vartika <class 'str'>\n",
            "Age: 25 <class 'int'>\n",
            "Height: 5.4 <class 'float'>\n",
            "Is Student: True <class 'bool'>\n"
          ]
        }
      ]
    },
    {
      "cell_type": "code",
      "source": [
        "print(\"Coding \"*5)"
      ],
      "metadata": {
        "id": "-fM0PFruA6qz",
        "colab": {
          "base_uri": "https://localhost:8080/"
        },
        "outputId": "d7b7401d-b65c-438f-84e2-cdaac3a798a6"
      },
      "execution_count": null,
      "outputs": [
        {
          "output_type": "stream",
          "name": "stdout",
          "text": [
            "Coding Coding Coding Coding Coding \n"
          ]
        }
      ]
    },
    {
      "cell_type": "code",
      "source": [
        "# program to print word \"Coding\" 5 time\n",
        "print(\"Coding \"*5)"
      ],
      "metadata": {
        "id": "oxtDfk6eA6cQ",
        "colab": {
          "base_uri": "https://localhost:8080/"
        },
        "outputId": "df2cb0c8-ae2f-406e-9857-68a0178f7025"
      },
      "execution_count": null,
      "outputs": [
        {
          "output_type": "stream",
          "name": "stdout",
          "text": [
            "Coding Coding Coding Coding Coding \n"
          ]
        }
      ]
    },
    {
      "cell_type": "code",
      "source": [
        "'''\n",
        "print following para:\n",
        "hi\n",
        "this is my 2nd python class\n",
        "'''\n",
        "print(\"hi\")\n",
        "print(\"this is my 2nd python class\")"
      ],
      "metadata": {
        "id": "b74aKi-BA6N9",
        "colab": {
          "base_uri": "https://localhost:8080/"
        },
        "outputId": "d8eb4cd6-ceb3-4a39-dae5-5f50aa1f042f"
      },
      "execution_count": null,
      "outputs": [
        {
          "output_type": "stream",
          "name": "stdout",
          "text": [
            "hi\n",
            "this is my 2nd python class\n"
          ]
        }
      ]
    },
    {
      "cell_type": "code",
      "source": [
        "print(\"hi\")\n",
        "#print(\"this is my 2nd python class\")"
      ],
      "metadata": {
        "colab": {
          "base_uri": "https://localhost:8080/"
        },
        "id": "ZoefeWg1G5pG",
        "outputId": "f2f92ec9-cde1-449f-82c6-2ab471380aff"
      },
      "execution_count": null,
      "outputs": [
        {
          "output_type": "stream",
          "name": "stdout",
          "text": [
            "hi\n"
          ]
        }
      ]
    },
    {
      "cell_type": "code",
      "source": [
        "#print(\"hi\")\n",
        "print(\"this is my 2nd python class\")"
      ],
      "metadata": {
        "colab": {
          "base_uri": "https://localhost:8080/"
        },
        "id": "wzIe8QXvHAMC",
        "outputId": "0f08e812-da40-4d62-d5b7-104e6771a965"
      },
      "execution_count": null,
      "outputs": [
        {
          "output_type": "stream",
          "name": "stdout",
          "text": [
            "this is my 2nd python class\n"
          ]
        }
      ]
    },
    {
      "cell_type": "code",
      "source": [
        "x=15\n",
        "print(x)"
      ],
      "metadata": {
        "colab": {
          "base_uri": "https://localhost:8080/"
        },
        "id": "QXWSAT5LLb4D",
        "outputId": "89056027-d362-480d-fae4-c3447d558213"
      },
      "execution_count": null,
      "outputs": [
        {
          "output_type": "stream",
          "name": "stdout",
          "text": [
            "15\n"
          ]
        }
      ]
    },
    {
      "cell_type": "code",
      "source": [
        "y=\"fmt\"\n",
        "print(y)"
      ],
      "metadata": {
        "colab": {
          "base_uri": "https://localhost:8080/"
        },
        "id": "1G-LpFHTLjcu",
        "outputId": "969a57b6-7682-4b57-cdc8-cb62f041ee0c"
      },
      "execution_count": null,
      "outputs": [
        {
          "output_type": "stream",
          "name": "stdout",
          "text": [
            "fmt\n"
          ]
        }
      ]
    },
    {
      "cell_type": "code",
      "source": [
        "#add two no.\n",
        "a=10\n",
        "b=20\n",
        "c=a+b\n",
        "print(\"sum=\",c)"
      ],
      "metadata": {
        "colab": {
          "base_uri": "https://localhost:8080/"
        },
        "id": "HLn85ztYLqMA",
        "outputId": "2b1f84dc-564d-4293-a93b-f39a91e7d3f2"
      },
      "execution_count": null,
      "outputs": [
        {
          "output_type": "stream",
          "name": "stdout",
          "text": [
            "sum= 30\n"
          ]
        }
      ]
    },
    {
      "cell_type": "code",
      "source": [
        "#arithmatic operation\n",
        "print(\"addition:\",a+b)\n",
        "print(\"subtraction:\",a-b)\n",
        "print(\"multiplication:\",a*b)\n",
        "print(\"division:\",a/b)\n",
        "print(\"floor division:\",a//b)\n",
        "print(\"modulus:\",a%b)\n",
        "print(\"exponent:\",a**b) #a to the power b"
      ],
      "metadata": {
        "colab": {
          "base_uri": "https://localhost:8080/"
        },
        "id": "sV7LzbSkL-y5",
        "outputId": "29f04450-6087-436a-ae3d-393d6cea53d3"
      },
      "execution_count": null,
      "outputs": [
        {
          "output_type": "stream",
          "name": "stdout",
          "text": [
            "addition: 30\n",
            "subtraction: -10\n",
            "multiplication: 200\n",
            "division: 0.5\n",
            "floor division: 0\n",
            "modulus: 10\n",
            "exponent: 100000000000000000000\n"
          ]
        }
      ]
    },
    {
      "cell_type": "code",
      "source": [
        "#add two no.\n",
        "a=int(input(\"enter first no.\"))\n",
        "b=int(input(\"enter second no.\"))\n",
        "c=a+b\n",
        "print(\"sum=\",c)"
      ],
      "metadata": {
        "colab": {
          "base_uri": "https://localhost:8080/"
        },
        "id": "_6Pbs6JoMdNO",
        "outputId": "c4c22dba-f180-4906-e304-bbbfbd3dd49c"
      },
      "execution_count": null,
      "outputs": [
        {
          "output_type": "stream",
          "name": "stdout",
          "text": [
            "enter first no.9\n",
            "enter second no.1\n",
            "sum= 10\n"
          ]
        }
      ]
    },
    {
      "cell_type": "markdown",
      "source": [
        "#  Basic Python Practice Questions\n",
        "1. Write a program that takes 3 no.s as input, print the sum on them.\n",
        "2. Write a program that takes lenght and height as input, print the area of rectangle.\n",
        "3. Write a program that takes a number and prints its square and cube.\n",
        "4. Write a program that takes two numbers and performs all arithmetic operations on them.\n",
        "5. Write a program that takes marks of 3 subjects, calculates the total and average.\n",
        "6. Write a program to calculate the area and circumference of a circle. (Take radius as input)\n",
        "7. Write a program to calculate the simple interest (SI = P*R*T / 100).(Take P,R,T as input)\n",
        "8.  Write a program to swap the values of two variables."
      ],
      "metadata": {
        "id": "uGYx99UGckX0"
      }
    },
    {
      "cell_type": "code",
      "source": [
        "# If-else – decision making\n",
        "age=30\n",
        "if age >= 18:#TRUE\n",
        "    print(\"You are an adult\")\n",
        "else:\n",
        "    print(\"You are a minor\")"
      ],
      "metadata": {
        "colab": {
          "base_uri": "https://localhost:8080/"
        },
        "id": "60qs0YOt7nVy",
        "outputId": "069757da-be6e-4877-ce33-856f58093e3f"
      },
      "execution_count": null,
      "outputs": [
        {
          "output_type": "stream",
          "name": "stdout",
          "text": [
            "You are an adult\n"
          ]
        }
      ]
    },
    {
      "cell_type": "code",
      "source": [
        "# If-else – decision making\n",
        "age=17\n",
        "if age >= 18:#FALSE\n",
        "    print(\"You are an adult\")\n",
        "else:\n",
        "    print(\"You are a minor\")"
      ],
      "metadata": {
        "colab": {
          "base_uri": "https://localhost:8080/"
        },
        "id": "EQ9ZMKKC-qRG",
        "outputId": "d3b00140-891b-42a5-b787-41b43d186c87"
      },
      "execution_count": null,
      "outputs": [
        {
          "output_type": "stream",
          "name": "stdout",
          "text": [
            "You are a minor\n"
          ]
        }
      ]
    },
    {
      "cell_type": "code",
      "source": [
        "#DETECT +VE AND -VE NO.\n",
        "#NO. LINE ..., -3,-2, -1, 0, 1, 2, 3, ...\n",
        "num=-9\n",
        "if num > 0:\n",
        "    print(\"positive\")\n",
        "else:\n",
        "    print(\"negative\")"
      ],
      "metadata": {
        "colab": {
          "base_uri": "https://localhost:8080/"
        },
        "id": "SzXG5yFW_LkA",
        "outputId": "fd333ab2-3160-44bb-abcd-2eacc5351e3d"
      },
      "execution_count": null,
      "outputs": [
        {
          "output_type": "stream",
          "name": "stdout",
          "text": [
            "negative\n"
          ]
        }
      ]
    },
    {
      "cell_type": "code",
      "source": [
        "#DETECT +VE AND -VE NO.\n",
        "#NO. LINE ..., -3,-2, -1, 0, 1, 2, 3, ...\n",
        "num=int(input(\"enter a no.\"))\n",
        "if num > 0:\n",
        "    print(\"positive\")\n",
        "else:\n",
        "    print(\"negative\")"
      ],
      "metadata": {
        "colab": {
          "base_uri": "https://localhost:8080/"
        },
        "id": "FIwMbrqK_UKQ",
        "outputId": "b41e627e-66e3-4ba5-a81f-ebf5fe02b262"
      },
      "execution_count": null,
      "outputs": [
        {
          "output_type": "stream",
          "name": "stdout",
          "text": [
            "enter a no.7\n",
            "positive\n"
          ]
        }
      ]
    },
    {
      "cell_type": "code",
      "source": [
        "#check multiple condition\n",
        "if age > 18:\n",
        "    print(\"Adult\")\n",
        "elif age == 18:\n",
        "    print(\"Just turned 18\")\n",
        "else:\n",
        "    print(\"Minor\")"
      ],
      "metadata": {
        "id": "PntADapkFL1e"
      },
      "execution_count": null,
      "outputs": []
    },
    {
      "cell_type": "code",
      "source": [
        "# List - ordered, changeable, allows duplicates\n",
        "fruits = [\"apple\", \"banana\", \"cherry\"]\n",
        "print(fruits)"
      ],
      "metadata": {
        "colab": {
          "base_uri": "https://localhost:8080/"
        },
        "id": "stArkjsHANwc",
        "outputId": "ff2c132f-b9fc-4143-f24f-200db3999a30"
      },
      "execution_count": null,
      "outputs": [
        {
          "output_type": "stream",
          "name": "stdout",
          "text": [
            "['apple', 'banana', 'cherry']\n"
          ]
        }
      ]
    },
    {
      "cell_type": "code",
      "source": [
        "# Access item based on indexing\n",
        "print(fruits[0])"
      ],
      "metadata": {
        "colab": {
          "base_uri": "https://localhost:8080/"
        },
        "id": "dXbamJOSAyTa",
        "outputId": "de77aa9b-fde6-431b-a7b2-d25d1a635934"
      },
      "execution_count": null,
      "outputs": [
        {
          "output_type": "stream",
          "name": "stdout",
          "text": [
            "apple\n"
          ]
        }
      ]
    },
    {
      "cell_type": "code",
      "source": [
        "# Add item\n",
        "fruits.append(\"mango\")\n",
        "print(fruits)"
      ],
      "metadata": {
        "colab": {
          "base_uri": "https://localhost:8080/"
        },
        "id": "zPJyDSeQBCag",
        "outputId": "43563b0f-7ff6-4abf-f7bf-da090192978e"
      },
      "execution_count": null,
      "outputs": [
        {
          "output_type": "stream",
          "name": "stdout",
          "text": [
            "['apple', 'banana', 'cherry', 'mango']\n"
          ]
        }
      ]
    },
    {
      "cell_type": "code",
      "source": [
        "# Tuple - ordered, unchangeable, allows duplicates\n",
        "colors = (\"red\", \"green\", \"blue\")\n",
        "print(colors)"
      ],
      "metadata": {
        "colab": {
          "base_uri": "https://localhost:8080/"
        },
        "id": "KSARP0MQBQiM",
        "outputId": "8c3fe77f-48f3-451b-c06b-e3c076023341"
      },
      "execution_count": null,
      "outputs": [
        {
          "output_type": "stream",
          "name": "stdout",
          "text": [
            "('red', 'green', 'blue')\n"
          ]
        }
      ]
    },
    {
      "cell_type": "code",
      "source": [
        "# Access item\n",
        "print(colors[0])"
      ],
      "metadata": {
        "colab": {
          "base_uri": "https://localhost:8080/"
        },
        "id": "9YbarBICBl8r",
        "outputId": "712fd9ea-a5c4-4cb7-a739-75dfb2ade5a6"
      },
      "execution_count": null,
      "outputs": [
        {
          "output_type": "stream",
          "name": "stdout",
          "text": [
            "red\n"
          ]
        }
      ]
    },
    {
      "cell_type": "code",
      "source": [
        "# Set - unordered, no duplicate items\n",
        "numbers = {1, 2, 3, 3, 2}\n",
        "print(numbers)  # Output will be {1, 2, 3}"
      ],
      "metadata": {
        "colab": {
          "base_uri": "https://localhost:8080/"
        },
        "id": "LXDbIBWHBtEY",
        "outputId": "ed993a65-3ef6-4089-d74c-c5ab31e78b3b"
      },
      "execution_count": null,
      "outputs": [
        {
          "output_type": "stream",
          "name": "stdout",
          "text": [
            "{1, 2, 3}\n"
          ]
        }
      ]
    },
    {
      "cell_type": "code",
      "source": [
        "# Add item\n",
        "numbers.add(4)\n",
        "print(numbers)"
      ],
      "metadata": {
        "colab": {
          "base_uri": "https://localhost:8080/"
        },
        "id": "grqNcnkQCNrA",
        "outputId": "5a495db4-0b77-4f22-d184-bc598d2de273"
      },
      "execution_count": null,
      "outputs": [
        {
          "output_type": "stream",
          "name": "stdout",
          "text": [
            "{1, 2, 3, 4}\n"
          ]
        }
      ]
    },
    {
      "cell_type": "code",
      "source": [
        "# Dictionary - key-value pairs\n",
        "student = {\n",
        "    \"name\": \"Vartika\",\n",
        "    \"age\": 25,\n",
        "    \"course\": \"Python\"\n",
        "}\n",
        "\n",
        "print(student)"
      ],
      "metadata": {
        "colab": {
          "base_uri": "https://localhost:8080/"
        },
        "id": "j137ArjCC3O9",
        "outputId": "bee23f1d-6677-4717-82cd-53b73638cb8b"
      },
      "execution_count": null,
      "outputs": [
        {
          "output_type": "stream",
          "name": "stdout",
          "text": [
            "{'name': 'Vartika', 'age': 25, 'course': 'Python'}\n"
          ]
        }
      ]
    },
    {
      "cell_type": "code",
      "source": [
        "# Access value\n",
        "print(student[\"name\"])"
      ],
      "metadata": {
        "colab": {
          "base_uri": "https://localhost:8080/"
        },
        "id": "g-lhTCg0DQ-o",
        "outputId": "436cc1d1-b422-4062-adaf-71e7e739dcd1"
      },
      "execution_count": null,
      "outputs": [
        {
          "output_type": "stream",
          "name": "stdout",
          "text": [
            "Vartika\n"
          ]
        }
      ]
    },
    {
      "cell_type": "code",
      "source": [
        "# Add key-value\n",
        "student[\"grade\"] = \"A\"\n",
        "print(student)"
      ],
      "metadata": {
        "colab": {
          "base_uri": "https://localhost:8080/"
        },
        "id": "RfOT9qhBDZdL",
        "outputId": "68f839f0-01cc-417c-b339-acbbb1d4f803"
      },
      "execution_count": null,
      "outputs": [
        {
          "output_type": "stream",
          "name": "stdout",
          "text": [
            "{'name': 'Vartika', 'age': 25, 'course': 'Python', 'grade': 'A'}\n"
          ]
        }
      ]
    },
    {
      "cell_type": "code",
      "source": [
        "#LOOPS: Loops help you repeat tasks without writing the same code again and again.\n",
        "# FOR LOOP\n",
        "\n",
        "#  PRINT NAME 5 TIME: Loop from 0 to 4\n",
        "for i in range(5):\n",
        "    print(\"FMT\")\n"
      ],
      "metadata": {
        "colab": {
          "base_uri": "https://localhost:8080/"
        },
        "id": "t0RpHahkD3Lq",
        "outputId": "0370e7f0-cf79-4133-fc5e-5e4f51ccb947"
      },
      "execution_count": null,
      "outputs": [
        {
          "output_type": "stream",
          "name": "stdout",
          "text": [
            "FMT\n",
            "FMT\n",
            "FMT\n",
            "FMT\n",
            "FMT\n"
          ]
        }
      ]
    },
    {
      "cell_type": "code",
      "source": [
        "# Loop from 0 to 4\n",
        "for i in range(5):\n",
        "    print(\"Number:\", i)"
      ],
      "metadata": {
        "colab": {
          "base_uri": "https://localhost:8080/"
        },
        "id": "_6ZVq-xvEe8O",
        "outputId": "e2bfb042-30f1-4596-ec4d-323ed81f062f"
      },
      "execution_count": null,
      "outputs": [
        {
          "output_type": "stream",
          "name": "stdout",
          "text": [
            "Number: 0\n",
            "Number: 1\n",
            "Number: 2\n",
            "Number: 3\n",
            "Number: 4\n"
          ]
        }
      ]
    },
    {
      "cell_type": "code",
      "source": [
        "# Loop from 1 to 4\n",
        "for i in range(1,5):\n",
        "    print(\"Number:\", i)"
      ],
      "metadata": {
        "colab": {
          "base_uri": "https://localhost:8080/"
        },
        "id": "yd24OvR3FQqt",
        "outputId": "eb7b2572-434e-40f0-ee7c-fc8343279daa"
      },
      "execution_count": null,
      "outputs": [
        {
          "output_type": "stream",
          "name": "stdout",
          "text": [
            "Number: 1\n",
            "Number: 2\n",
            "Number: 3\n",
            "Number: 4\n"
          ]
        }
      ]
    },
    {
      "cell_type": "code",
      "source": [
        "# Loop from 1 to 4\n",
        "for i in range(1,10,2):\n",
        "    print(\"Number:\", i)"
      ],
      "metadata": {
        "colab": {
          "base_uri": "https://localhost:8080/"
        },
        "id": "JWzKOd0hFZ6w",
        "outputId": "83a73336-bb96-48b2-b96d-1e766718d5c2"
      },
      "execution_count": null,
      "outputs": [
        {
          "output_type": "stream",
          "name": "stdout",
          "text": [
            "Number: 1\n",
            "Number: 3\n",
            "Number: 5\n",
            "Number: 7\n",
            "Number: 9\n"
          ]
        }
      ]
    },
    {
      "cell_type": "code",
      "source": [
        "#Loop through a list\n",
        "fruits = [\"apple\", \"banana\", \"mango\"]\n",
        "print(type(fruits))\n"
      ],
      "metadata": {
        "colab": {
          "base_uri": "https://localhost:8080/"
        },
        "id": "PCKZyHF8F_e9",
        "outputId": "334998c3-7b20-47f4-b339-0480372259a9"
      },
      "execution_count": null,
      "outputs": [
        {
          "output_type": "stream",
          "name": "stdout",
          "text": [
            "<class 'list'>\n"
          ]
        }
      ]
    },
    {
      "cell_type": "code",
      "source": [
        "for i in fruits:\n",
        "    print(\"I like\", i)"
      ],
      "metadata": {
        "colab": {
          "base_uri": "https://localhost:8080/"
        },
        "id": "pspeom8SGci5",
        "outputId": "e397cd0d-a817-441c-c893-772024e4b740"
      },
      "execution_count": null,
      "outputs": [
        {
          "output_type": "stream",
          "name": "stdout",
          "text": [
            "I like apple\n",
            "I like banana\n",
            "I like mango\n"
          ]
        }
      ]
    },
    {
      "cell_type": "code",
      "source": [
        "for fruit in fruits:\n",
        "    print(\"I like\", fruit)"
      ],
      "metadata": {
        "colab": {
          "base_uri": "https://localhost:8080/"
        },
        "id": "Y8fU-d9CGXc_",
        "outputId": "de944a04-b3dd-4561-d432-bff6344cd5aa"
      },
      "execution_count": null,
      "outputs": [
        {
          "output_type": "stream",
          "name": "stdout",
          "text": [
            "I like apple\n",
            "I like banana\n",
            "I like mango\n"
          ]
        }
      ]
    },
    {
      "cell_type": "code",
      "source": [
        "# while loop\n",
        "\n",
        "count = 0\n",
        "while count < 5:\n",
        "    print(\"Count:\", count)\n",
        "    count += 1 # count = count + 1 #"
      ],
      "metadata": {
        "colab": {
          "base_uri": "https://localhost:8080/"
        },
        "id": "cJyLUPjiG7eT",
        "outputId": "5e4dc1ab-f042-42ae-b398-fcef8fd8dadf"
      },
      "execution_count": null,
      "outputs": [
        {
          "output_type": "stream",
          "name": "stdout",
          "text": [
            "Count: 0\n",
            "Count: 1\n",
            "Count: 2\n",
            "Count: 3\n",
            "Count: 4\n"
          ]
        }
      ]
    },
    {
      "cell_type": "code",
      "source": [
        "\n",
        "count = 1\n",
        "while count < 5:\n",
        "    print(\"Count:\", count)\n",
        "    count += 1 # count = count + 1 #"
      ],
      "metadata": {
        "colab": {
          "base_uri": "https://localhost:8080/"
        },
        "id": "fNtA1O14HDhQ",
        "outputId": "8791bc41-6cbc-4fd5-a285-90ea5f90d61f"
      },
      "execution_count": null,
      "outputs": [
        {
          "output_type": "stream",
          "name": "stdout",
          "text": [
            "Count: 1\n",
            "Count: 2\n",
            "Count: 3\n",
            "Count: 4\n"
          ]
        }
      ]
    },
    {
      "cell_type": "code",
      "source": [
        "\n",
        "count = 1\n",
        "while count < 10:\n",
        "    print(\"Count:\", count)\n",
        "    count += 2 # count = count + 1 #"
      ],
      "metadata": {
        "colab": {
          "base_uri": "https://localhost:8080/"
        },
        "id": "T61JEfLZHki8",
        "outputId": "92bac924-ca1c-4647-a198-8e3fe7c9e39c"
      },
      "execution_count": null,
      "outputs": [
        {
          "output_type": "stream",
          "name": "stdout",
          "text": [
            "Count: 1\n",
            "Count: 3\n",
            "Count: 5\n",
            "Count: 7\n",
            "Count: 9\n"
          ]
        }
      ]
    },
    {
      "cell_type": "code",
      "source": [
        "#Nested Loops : A loop inside another loop.\n",
        "\n",
        "for i in range(2):  # Outer loop\n",
        "    for j in range(3):  # Inner loop\n",
        "        print(\"i:\", i, \"j:\", j)"
      ],
      "metadata": {
        "colab": {
          "base_uri": "https://localhost:8080/"
        },
        "id": "w5SoJSJiIHy3",
        "outputId": "f8fff068-e052-44c1-ab2b-6712112b45c1"
      },
      "execution_count": null,
      "outputs": [
        {
          "output_type": "stream",
          "name": "stdout",
          "text": [
            "i: 0 j: 0\n",
            "i: 0 j: 1\n",
            "i: 0 j: 2\n",
            "i: 1 j: 0\n",
            "i: 1 j: 1\n",
            "i: 1 j: 2\n"
          ]
        }
      ]
    },
    {
      "cell_type": "code",
      "source": [
        "#Nested Loops : A loop inside another loop.\n",
        "\n",
        "for i in range(4):  # Outer loop\n",
        "    for j in range(6):  # Inner loop\n",
        "        print(\"*\"*j*i)\n"
      ],
      "metadata": {
        "colab": {
          "base_uri": "https://localhost:8080/"
        },
        "id": "NNGDJ2XhIPp7",
        "outputId": "8ce135f5-1ef8-4b9b-c679-910e95c60bbd"
      },
      "execution_count": null,
      "outputs": [
        {
          "output_type": "stream",
          "name": "stdout",
          "text": [
            "\n",
            "\n",
            "\n",
            "\n",
            "\n",
            "\n",
            "\n",
            "*\n",
            "**\n",
            "***\n",
            "****\n",
            "*****\n",
            "\n",
            "**\n",
            "****\n",
            "******\n",
            "********\n",
            "**********\n",
            "\n",
            "***\n",
            "******\n",
            "*********\n",
            "************\n",
            "***************\n"
          ]
        }
      ]
    },
    {
      "cell_type": "code",
      "source": [
        "#Functions\n",
        "def greet(person):\n",
        "    print( \"Hello, \" + person + \"!\")\n",
        "    print(\"How are you?\")\n",
        "\n"
      ],
      "metadata": {
        "id": "ULIUfSHSI7-A"
      },
      "execution_count": null,
      "outputs": []
    },
    {
      "cell_type": "code",
      "source": [
        "greet('anna')\n",
        "greet('anna')\n",
        "greet('anna')"
      ],
      "metadata": {
        "colab": {
          "base_uri": "https://localhost:8080/"
        },
        "id": "1uE4R_r2ACk4",
        "outputId": "4fb43935-3dee-46b6-e16d-0b180d760aaa"
      },
      "execution_count": null,
      "outputs": [
        {
          "output_type": "stream",
          "name": "stdout",
          "text": [
            "Hello, anna!\n",
            "How are you?\n",
            "Hello, anna!\n",
            "How are you?\n",
            "Hello, anna!\n",
            "How are you?\n"
          ]
        }
      ]
    },
    {
      "cell_type": "code",
      "source": [
        "greet(\"FMT\")"
      ],
      "metadata": {
        "colab": {
          "base_uri": "https://localhost:8080/"
        },
        "id": "Rji300_dJEif",
        "outputId": "08d7f0dc-410b-4cca-ff00-59fefb73413a"
      },
      "execution_count": null,
      "outputs": [
        {
          "output_type": "stream",
          "name": "stdout",
          "text": [
            "Hello, FMT!\n",
            "How are you?\n"
          ]
        }
      ]
    },
    {
      "cell_type": "code",
      "source": [
        "greet(\"FMT\")"
      ],
      "metadata": {
        "id": "CvlJy_4-JUiL",
        "outputId": "d2fbbf05-458c-4cb5-8c2c-095e0872b3f3",
        "colab": {
          "base_uri": "https://localhost:8080/"
        }
      },
      "execution_count": null,
      "outputs": [
        {
          "output_type": "stream",
          "name": "stdout",
          "text": [
            "Hello, FMT!\n",
            "How are you?\n"
          ]
        }
      ]
    },
    {
      "cell_type": "code",
      "source": [
        "#Lambda Functions:Anonymous (nameless) functions defined using the lambda keyword — used for short, simple functions.\n",
        "square = lambda x: x ** 2\n",
        "print(square(5))  # Output: 25"
      ],
      "metadata": {
        "colab": {
          "base_uri": "https://localhost:8080/"
        },
        "id": "rxVjd9nfJ5p5",
        "outputId": "0883aa28-8f6d-416d-b83b-cc315f092d91"
      },
      "execution_count": null,
      "outputs": [
        {
          "output_type": "stream",
          "name": "stdout",
          "text": [
            "25\n"
          ]
        }
      ]
    },
    {
      "cell_type": "code",
      "source": [
        "square(10)"
      ],
      "metadata": {
        "colab": {
          "base_uri": "https://localhost:8080/"
        },
        "id": "eddp6SPqBDBJ",
        "outputId": "25e0d07d-3fe4-42e4-cf95-ec49af76fc4c"
      },
      "execution_count": null,
      "outputs": [
        {
          "output_type": "execute_result",
          "data": {
            "text/plain": [
              "100"
            ]
          },
          "metadata": {},
          "execution_count": 14
        }
      ]
    },
    {
      "cell_type": "code",
      "source": [
        "add = lambda a, b: a + b\n",
        "print(add(3, 4))  # Output: 7"
      ],
      "metadata": {
        "colab": {
          "base_uri": "https://localhost:8080/"
        },
        "id": "XqIm8tjOKIgs",
        "outputId": "36cd117c-6c98-47b9-903d-2b9e76ef4b64"
      },
      "execution_count": null,
      "outputs": [
        {
          "output_type": "stream",
          "name": "stdout",
          "text": [
            "7\n"
          ]
        }
      ]
    },
    {
      "cell_type": "code",
      "source": [
        "x = 1 / 0"
      ],
      "metadata": {
        "colab": {
          "base_uri": "https://localhost:8080/",
          "height": 141
        },
        "id": "Gf9dvUS7Gnw5",
        "outputId": "2f8d65f2-10c9-424e-d36d-8eb8aa42c723"
      },
      "execution_count": null,
      "outputs": [
        {
          "output_type": "error",
          "ename": "ZeroDivisionError",
          "evalue": "division by zero",
          "traceback": [
            "\u001b[0;31m---------------------------------------------------------------------------\u001b[0m",
            "\u001b[0;31mZeroDivisionError\u001b[0m                         Traceback (most recent call last)",
            "\u001b[0;32m<ipython-input-19-49b674367966>\u001b[0m in \u001b[0;36m<cell line: 0>\u001b[0;34m()\u001b[0m\n\u001b[0;32m----> 1\u001b[0;31m \u001b[0mx\u001b[0m \u001b[0;34m=\u001b[0m \u001b[0;36m1\u001b[0m \u001b[0;34m/\u001b[0m \u001b[0;36m0\u001b[0m\u001b[0;34m\u001b[0m\u001b[0;34m\u001b[0m\u001b[0m\n\u001b[0m",
            "\u001b[0;31mZeroDivisionError\u001b[0m: division by zero"
          ]
        }
      ]
    },
    {
      "cell_type": "code",
      "source": [
        "#Error Handling\n",
        "\n",
        "try:\n",
        "    x = 1 / 0\n",
        "    print(x)\n",
        "except ZeroDivisionError:\n",
        "    print(\"Cannot divide by zero\")\n",
        "finally:\n",
        "    print(\"Done\")"
      ],
      "metadata": {
        "colab": {
          "base_uri": "https://localhost:8080/"
        },
        "id": "cKUJ3oKZE6zy",
        "outputId": "463c54da-5c51-4f6c-97fe-4026b76c8191"
      },
      "execution_count": null,
      "outputs": [
        {
          "output_type": "stream",
          "name": "stdout",
          "text": [
            "Cannot divide by zero\n",
            "Done\n"
          ]
        }
      ]
    },
    {
      "cell_type": "code",
      "source": [
        "#File Handling\n",
        "\n",
        "#Open a File and write\n",
        "\n",
        "f = open(\"file.txt\", \"w\")\n",
        "f.write(\"This is a new file.\")\n",
        "f.close()\n",
        "'''\n",
        "'r' = read, 'w' = write, 'a' = append, 'x' = create  , 't' = text (default), 'b' = binary\n",
        "'''"
      ],
      "metadata": {
        "colab": {
          "base_uri": "https://localhost:8080/",
          "height": 35
        },
        "id": "FZSoKH5IGsAG",
        "outputId": "58b14e55-fcc4-4e3f-ae5e-c48ed22d9a60"
      },
      "execution_count": null,
      "outputs": [
        {
          "output_type": "execute_result",
          "data": {
            "text/plain": [
              "\"\\n'r' = read, 'w' = write, 'a' = append, 'x' = create  , 't' = text (default), 'b' = binary\\n\""
            ],
            "application/vnd.google.colaboratory.intrinsic+json": {
              "type": "string"
            }
          },
          "metadata": {},
          "execution_count": 21
        }
      ]
    },
    {
      "cell_type": "code",
      "source": [
        "#f = open(\"myfile.txt\", \"x\")  # Creates a new file (error if exists)"
      ],
      "metadata": {
        "id": "A_liSBQhH43S"
      },
      "execution_count": null,
      "outputs": []
    },
    {
      "cell_type": "code",
      "source": [
        "#. Open and Read File\n",
        "\n",
        "f = open(\"file.txt\", \"r\")  # Open in read mode\n",
        "print(f.read())\n",
        "f.close()"
      ],
      "metadata": {
        "colab": {
          "base_uri": "https://localhost:8080/"
        },
        "id": "EP_3gakEIADR",
        "outputId": "33d611e4-43ab-4f9b-eef8-681429926707"
      },
      "execution_count": null,
      "outputs": [
        {
          "output_type": "stream",
          "name": "stdout",
          "text": [
            "This is a new file.\n"
          ]
        }
      ]
    },
    {
      "cell_type": "code",
      "source": [
        "#With Statement (Auto close)\n",
        "with open(\"file.txt\", \"r\") as f:\n",
        "    print(f.read())"
      ],
      "metadata": {
        "colab": {
          "base_uri": "https://localhost:8080/"
        },
        "id": "eiaLuykwIXmg",
        "outputId": "3e8d270b-c36d-4ea0-e962-07d52d121e90"
      },
      "execution_count": null,
      "outputs": [
        {
          "output_type": "stream",
          "name": "stdout",
          "text": [
            "This is a new file.\n"
          ]
        }
      ]
    },
    {
      "cell_type": "code",
      "source": [
        "#Check & Delete File\n",
        "import os\n",
        "os.path.exists(\"file.txt\")     # check\n",
        "os.remove(\"file.txt\")          # delete"
      ],
      "metadata": {
        "id": "TF8ayatoIiqv"
      },
      "execution_count": null,
      "outputs": []
    },
    {
      "cell_type": "code",
      "source": [
        "import math\n",
        "\n",
        "radius = 5\n",
        "area = math.pi * math.pow(radius, 2) #r**2\n",
        "print(\"Area of circle:\", area)"
      ],
      "metadata": {
        "colab": {
          "base_uri": "https://localhost:8080/"
        },
        "id": "Zdkl2vEhIpa8",
        "outputId": "09ce541d-806b-4964-981a-3755a57aab47"
      },
      "execution_count": null,
      "outputs": [
        {
          "output_type": "stream",
          "name": "stdout",
          "text": [
            "Area of circle: 78.53981633974483\n"
          ]
        }
      ]
    },
    {
      "cell_type": "markdown",
      "source": [
        "---\n",
        "\n",
        "## 📘 Python `math` Module – Essential Functions\n",
        "\n",
        "The `math` module in Python provides access to mathematical functions and constants. Below is a list of commonly used functions:\n",
        "\n",
        "---\n",
        "\n",
        "### 🔹 Mathematical Operations\n",
        "\n",
        "- **`math.sqrt(x)`**  \n",
        "  Returns the square root of `x`.  \n",
        "  *Example:* `math.sqrt(16)` → `4.0`\n",
        "\n",
        "- **`math.pow(x, y)`**  \n",
        "  Returns `x` raised to the power of `y`.  \n",
        "  *Example:* `math.pow(2, 3)` → `8.0`\n",
        "\n",
        "- **`math.floor(x)`**  \n",
        "  Rounds `x` down to the nearest whole number.  \n",
        "  *Example:* `math.floor(3.9)` → `3`\n",
        "\n",
        "- **`math.ceil(x)`**  \n",
        "  Rounds `x` up to the nearest whole number.  \n",
        "  *Example:* `math.ceil(3.1)` → `4`\n",
        "\n",
        "- **`math.factorial(x)`**  \n",
        "  Returns the factorial of `x`.  \n",
        "  *Example:* `math.factorial(5)` → `120`\n",
        "\n",
        "- **`math.gcd(x, y)`**  \n",
        "  Computes the greatest common divisor of `x` and `y`.  \n",
        "  *Example:* `math.gcd(12, 18)` → `6`\n",
        "\n",
        "- **`math.fabs(x)`**  \n",
        "  Returns the absolute value of `x` as a float.  \n",
        "  *Example:* `math.fabs(-3.5)` → `3.5`\n",
        "\n",
        "---\n",
        "\n",
        "### 🔹 Logarithmic & Exponential\n",
        "\n",
        "- **`math.log(x, base)`**  \n",
        "  Returns the logarithm of `x` to the specified `base`.  \n",
        "  *Example:* `math.log(100, 10)` → `2.0`\n",
        "\n",
        "- **`math.exp(x)`**  \n",
        "  Returns the value of *e* raised to the power `x` (e^x).  \n",
        "  *Example:* `math.exp(2)` → `7.389`\n",
        "\n",
        "---\n",
        "\n",
        "### 🔹 Mathematical Constants\n",
        "\n",
        "- **`math.pi`**  \n",
        "  Returns the value of π (pi).  \n",
        "  *Example:* `math.pi` → `3.1415...`\n",
        "\n",
        "- **`math.e`**  \n",
        "  Returns the value of Euler’s number *e*.  \n",
        "  *Example:* `math.e` → `2.718...`\n",
        "\n",
        "---\n"
      ],
      "metadata": {
        "id": "o3wy60LWI64z"
      }
    },
    {
      "cell_type": "code",
      "source": [
        "#List Comprehensions: A concise way to create lists using a single line of code.\n",
        "squares = [x**2 for x in range(5)]#0,1,2,3,5-1=4\n",
        "# Output: [0, 1, 4, 9, 16]\n",
        "squares\n"
      ],
      "metadata": {
        "colab": {
          "base_uri": "https://localhost:8080/"
        },
        "id": "-7k4LrgvJW3o",
        "outputId": "832e4211-57cb-488d-ce70-1e4eb3811914"
      },
      "execution_count": null,
      "outputs": [
        {
          "output_type": "execute_result",
          "data": {
            "text/plain": [
              "[0, 1, 4, 9, 16]"
            ]
          },
          "metadata": {},
          "execution_count": 14
        }
      ]
    },
    {
      "cell_type": "code",
      "source": [
        "even_nums = [x for x in range(10) if x % 2 == 0]\n",
        "# Output: [0, 2, 4, 6, 8]\n",
        "even_nums"
      ],
      "metadata": {
        "colab": {
          "base_uri": "https://localhost:8080/"
        },
        "id": "Z3aZDYkpJwvj",
        "outputId": "faec5a0b-df36-4cbe-f22b-013b1ca77382"
      },
      "execution_count": null,
      "outputs": [
        {
          "output_type": "execute_result",
          "data": {
            "text/plain": [
              "[0, 2, 4, 6, 8]"
            ]
          },
          "metadata": {},
          "execution_count": 15
        }
      ]
    },
    {
      "cell_type": "code",
      "source": [
        "\n"
      ],
      "metadata": {
        "id": "40UFsomjFuZU"
      },
      "execution_count": null,
      "outputs": []
    },
    {
      "cell_type": "markdown",
      "source": [
        "## Data Analysis"
      ],
      "metadata": {
        "id": "8z-NPgl6KTDH"
      }
    },
    {
      "cell_type": "markdown",
      "source": [
        "\n",
        "\n",
        "---\n",
        "\n",
        "## 📊 **Data Analysis – Quick Notes**\n",
        "\n",
        "---\n",
        "\n",
        "### ✅ **1. What is Data Analysis?**\n",
        "Data Analysis is the process of **inspecting, cleaning, transforming, and modeling data** to discover useful insights, patterns, and support decision-making.\n",
        "\n",
        "---\n",
        "\n",
        "### ✅ **2. Key Steps in Data Analysis**\n",
        "1. **Data Collection** – Gather data from multiple sources (CSV, databases, APIs, web scraping, etc.)\n",
        "2. **Data Cleaning** – Handle missing values, remove duplicates, fix data types, outliers, etc.\n",
        "3. **Data Exploration (EDA)** – Use statistics and visuals to understand data patterns.\n",
        "4. **Data Transformation** – Feature engineering, normalization, encoding.\n",
        "5. **Modeling & Analysis** – Apply machine learning or statistical models.\n",
        "6. **Interpretation & Communication** – Present insights using reports, dashboards, or visualizations.\n",
        "\n",
        "---\n",
        "\n",
        "### ✅ **3. Commonly Used Libraries in Python**\n",
        "- **NumPy** – Numerical computations\n",
        "- **Pandas** – Data manipulation (Series, DataFrames)\n",
        "- **Matplotlib / Seaborn** – Data visualization\n",
        "- **Scikit-learn** – Machine learning & preprocessing\n",
        "- **Statsmodels** – Statistical analysis\n",
        "\n",
        "---\n",
        "\n",
        "### ✅ **4. Important Pandas Functions**\n",
        "- `pd.read_csv(\"file.csv\")` – Load dataset  \n",
        "- `df.head()` / `df.tail()` – View first/last rows  \n",
        "- `df.info()` / `df.describe()` – Dataset summary  \n",
        "- `df.isnull().sum()` – Missing value check  \n",
        "- `df.dropna()` / `df.fillna(value)` – Handle missing values  \n",
        "- `df.groupby(\"column\")` – Group and aggregate  \n",
        "- `df.sort_values(\"column\")` – Sort data  \n",
        "\n",
        "---\n",
        "\n",
        "### ✅ **5. Exploratory Data Analysis (EDA)**\n",
        "- **Univariate analysis** – Distribution of one variable (histogram, boxplot)\n",
        "- **Bivariate analysis** – Relationships (scatter plot, correlation matrix)\n",
        "- **Outliers** – Detected using boxplot or IQR\n",
        "- **Correlation** – `df.corr()` helps detect multicollinearity\n",
        "\n",
        "---\n",
        "\n",
        "### ✅ **6. Data Visualization**\n",
        "- `matplotlib.pyplot.plot()`, `.bar()`, `.hist()`, `.scatter()`\n",
        "- `seaborn.heatmap()`, `sns.pairplot()`, `sns.boxplot()`\n",
        "\n",
        "---\n",
        "\n",
        "### ✅ **7. Descriptive Statistics**\n",
        "- **Mean, Median, Mode**\n",
        "- **Standard Deviation, Variance**\n",
        "- **Percentiles, Quartiles**\n",
        "- **Skewness & Kurtosis**\n",
        "\n",
        "---\n"
      ],
      "metadata": {
        "id": "dQTcIOp8KsTr"
      }
    },
    {
      "cell_type": "code",
      "source": [
        "#NumPy : 1d arr, 2d arr\n",
        "import numpy as np\n",
        "\n"
      ],
      "metadata": {
        "id": "02wI1LeVJzxO"
      },
      "execution_count": null,
      "outputs": []
    },
    {
      "cell_type": "code",
      "source": [
        "#Creating Arrays\n",
        "#               0  1  2  3\n",
        "arr = np.array([1, 2, 3])  # 1D array\n",
        "arr\n"
      ],
      "metadata": {
        "colab": {
          "base_uri": "https://localhost:8080/"
        },
        "id": "icyjbJEOLhQy",
        "outputId": "f46764e0-6080-4b79-c26e-a347a21378e2"
      },
      "execution_count": null,
      "outputs": [
        {
          "output_type": "execute_result",
          "data": {
            "text/plain": [
              "array([1, 2, 3])"
            ]
          },
          "metadata": {},
          "execution_count": 28
        }
      ]
    },
    {
      "cell_type": "code",
      "source": [
        "arr_2d = np.array([[1, 2], [3, 4]])  # 2D array\n",
        "arr_2d"
      ],
      "metadata": {
        "colab": {
          "base_uri": "https://localhost:8080/"
        },
        "id": "rHIT0O-TLphw",
        "outputId": "3fdb5da3-c389-47d1-ff10-93db7011dff4"
      },
      "execution_count": null,
      "outputs": [
        {
          "output_type": "execute_result",
          "data": {
            "text/plain": [
              "array([[1, 2],\n",
              "       [3, 4]])"
            ]
          },
          "metadata": {},
          "execution_count": 41
        }
      ]
    },
    {
      "cell_type": "code",
      "source": [
        "zeros = np.zeros((2, 2))  # 2x2 matrix of zeros\n",
        "zeros\n"
      ],
      "metadata": {
        "colab": {
          "base_uri": "https://localhost:8080/"
        },
        "id": "OJ4_kmZJLr4l",
        "outputId": "366627bb-5b45-42ab-c80c-407d0c6c591d"
      },
      "execution_count": null,
      "outputs": [
        {
          "output_type": "execute_result",
          "data": {
            "text/plain": [
              "array([[0., 0.],\n",
              "       [0., 0.]])"
            ]
          },
          "metadata": {},
          "execution_count": 24
        }
      ]
    },
    {
      "cell_type": "code",
      "source": [
        "\n",
        "ones = np.ones((2, 2))  # 2x2 matrix of ones\n",
        "ones"
      ],
      "metadata": {
        "colab": {
          "base_uri": "https://localhost:8080/"
        },
        "id": "w3pOvo1yL5lR",
        "outputId": "507e3ae8-40fb-4f32-ba07-a8ce3112ca4c"
      },
      "execution_count": null,
      "outputs": [
        {
          "output_type": "execute_result",
          "data": {
            "text/plain": [
              "array([[1., 1.],\n",
              "       [1., 1.]])"
            ]
          },
          "metadata": {},
          "execution_count": 26
        }
      ]
    },
    {
      "cell_type": "code",
      "source": [
        "#Indexing & Slicing\n",
        "\n",
        "arr[0]  # Access element"
      ],
      "metadata": {
        "colab": {
          "base_uri": "https://localhost:8080/"
        },
        "id": "1LsG1gcBMQN8",
        "outputId": "0846aa34-8f2b-4af6-b110-c071d7459e87"
      },
      "execution_count": null,
      "outputs": [
        {
          "output_type": "execute_result",
          "data": {
            "text/plain": [
              "np.int64(1)"
            ]
          },
          "metadata": {},
          "execution_count": 30
        }
      ]
    },
    {
      "cell_type": "code",
      "source": [
        "#               0  1   2  3  4\n",
        "arr = np.array([11,12, 3, 4, 5])  # 1D array\n",
        "arr\n",
        "arr[0:2]  # Slice array"
      ],
      "metadata": {
        "colab": {
          "base_uri": "https://localhost:8080/"
        },
        "id": "iCepKZbDMVsG",
        "outputId": "60657d5d-edfe-42a5-9323-f9e053e7eaaf"
      },
      "execution_count": null,
      "outputs": [
        {
          "output_type": "execute_result",
          "data": {
            "text/plain": [
              "array([11, 12])"
            ]
          },
          "metadata": {},
          "execution_count": 38
        }
      ]
    },
    {
      "cell_type": "code",
      "source": [
        "\n",
        "arr_2d[0, 1]  # 2D array access"
      ],
      "metadata": {
        "colab": {
          "base_uri": "https://localhost:8080/"
        },
        "id": "fAKwjSKDMXFO",
        "outputId": "b583458b-0646-49ea-f4a9-28c03b1ece7c"
      },
      "execution_count": null,
      "outputs": [
        {
          "output_type": "execute_result",
          "data": {
            "text/plain": [
              "np.int64(2)"
            ]
          },
          "metadata": {},
          "execution_count": 31
        }
      ]
    },
    {
      "cell_type": "code",
      "source": [
        "#Array Operations\n",
        "\n",
        "result1 = arr + arr  # Element-wise addition\n",
        "result2 = arr * arr  # Element-wise multiplication\n",
        "dot_result = np.dot(arr, arr)  # Dot product\n",
        "\n",
        "print(result1, result2, dot_result)"
      ],
      "metadata": {
        "colab": {
          "base_uri": "https://localhost:8080/"
        },
        "id": "7YUGLgc0L_mE",
        "outputId": "d67b4dd3-740e-4225-ccd9-bce3960c25b3"
      },
      "execution_count": null,
      "outputs": [
        {
          "output_type": "stream",
          "name": "stdout",
          "text": [
            "[22 24  6  8 10] [121 144   9  16  25] 315\n"
          ]
        }
      ]
    },
    {
      "cell_type": "code",
      "source": [
        "arr_2d"
      ],
      "metadata": {
        "colab": {
          "base_uri": "https://localhost:8080/"
        },
        "id": "_1A_4oraJq2j",
        "outputId": "d91922cd-6a2f-4167-96db-b3c5e451dac4"
      },
      "execution_count": null,
      "outputs": [
        {
          "output_type": "execute_result",
          "data": {
            "text/plain": [
              "array([[1, 2],\n",
              "       [3, 4]])"
            ]
          },
          "metadata": {},
          "execution_count": 42
        }
      ]
    },
    {
      "cell_type": "code",
      "source": [
        "transposed_arr = arr_2d.T\n",
        "transposed_arr"
      ],
      "metadata": {
        "colab": {
          "base_uri": "https://localhost:8080/"
        },
        "id": "iujUhH1qMo6G",
        "outputId": "c300b52b-a5fa-49d8-a1b3-8c7fe59fe108"
      },
      "execution_count": null,
      "outputs": [
        {
          "output_type": "execute_result",
          "data": {
            "text/plain": [
              "array([[1, 3],\n",
              "       [2, 4]])"
            ]
          },
          "metadata": {},
          "execution_count": 43
        }
      ]
    },
    {
      "cell_type": "code",
      "source": [
        "arr"
      ],
      "metadata": {
        "colab": {
          "base_uri": "https://localhost:8080/"
        },
        "id": "2J27qkluNFpE",
        "outputId": "2479b58f-47ed-4ea5-c75c-762a06d2f49a"
      },
      "execution_count": null,
      "outputs": [
        {
          "output_type": "execute_result",
          "data": {
            "text/plain": [
              "array([1, 2, 3])"
            ]
          },
          "metadata": {},
          "execution_count": 34
        }
      ]
    },
    {
      "cell_type": "code",
      "source": [
        "mean = np.mean(arr)\n",
        "mean"
      ],
      "metadata": {
        "colab": {
          "base_uri": "https://localhost:8080/"
        },
        "id": "518fyHBqNA5y",
        "outputId": "7d5024cb-3471-46c8-81bf-e2aba8bf6751"
      },
      "execution_count": null,
      "outputs": [
        {
          "output_type": "execute_result",
          "data": {
            "text/plain": [
              "np.float64(2.0)"
            ]
          },
          "metadata": {},
          "execution_count": 35
        }
      ]
    },
    {
      "cell_type": "code",
      "source": [
        "sum_val = np.sum(arr)\n",
        "sum_val"
      ],
      "metadata": {
        "colab": {
          "base_uri": "https://localhost:8080/"
        },
        "id": "liXXnYJ0NDB6",
        "outputId": "8ed5c8bd-aa43-4f68-98d9-50e7b9a75c8a"
      },
      "execution_count": null,
      "outputs": [
        {
          "output_type": "execute_result",
          "data": {
            "text/plain": [
              "np.int64(6)"
            ]
          },
          "metadata": {},
          "execution_count": 36
        }
      ]
    },
    {
      "cell_type": "code",
      "source": [
        "min_val = np.min(arr)\n",
        "min_val"
      ],
      "metadata": {
        "colab": {
          "base_uri": "https://localhost:8080/"
        },
        "id": "av8dhfQxND5N",
        "outputId": "9076f3fe-8bb9-4963-b9e7-f6d9db9f41fb"
      },
      "execution_count": null,
      "outputs": [
        {
          "output_type": "execute_result",
          "data": {
            "text/plain": [
              "np.int64(1)"
            ]
          },
          "metadata": {},
          "execution_count": 37
        }
      ]
    },
    {
      "cell_type": "code",
      "source": [
        " #Broadcasting\n",
        "\n",
        "arr + 5"
      ],
      "metadata": {
        "colab": {
          "base_uri": "https://localhost:8080/"
        },
        "id": "jKT0CYinNR2C",
        "outputId": "758edd28-0b25-4f89-f633-27d2b059eebe"
      },
      "execution_count": null,
      "outputs": [
        {
          "output_type": "execute_result",
          "data": {
            "text/plain": [
              "array([6, 7, 8])"
            ]
          },
          "metadata": {},
          "execution_count": 38
        }
      ]
    },
    {
      "cell_type": "code",
      "source": [
        "#Random Module\n",
        "\n",
        "rand_arr = np.random.rand(4, 3)\n",
        "rand_arr"
      ],
      "metadata": {
        "colab": {
          "base_uri": "https://localhost:8080/"
        },
        "id": "ix2fLh_ANYPT",
        "outputId": "612cfe96-9197-45a1-e416-901bc24418ed"
      },
      "execution_count": null,
      "outputs": [
        {
          "output_type": "execute_result",
          "data": {
            "text/plain": [
              "array([[0.4751517 , 0.02463159, 0.50876405],\n",
              "       [0.45726544, 0.20902363, 0.45880409],\n",
              "       [0.76999381, 0.96262717, 0.75022486],\n",
              "       [0.86964579, 0.21350019, 0.44526446]])"
            ]
          },
          "metadata": {},
          "execution_count": 45
        }
      ]
    },
    {
      "cell_type": "code",
      "source": [
        "\n",
        "rand_int_arr = np.random.randint(-10, 10, (4, 3))\n",
        "rand_int_arr"
      ],
      "metadata": {
        "colab": {
          "base_uri": "https://localhost:8080/"
        },
        "id": "U3o7ybUlNa7U",
        "outputId": "5d7af347-1f07-4195-ac03-84ec1371e08d"
      },
      "execution_count": null,
      "outputs": [
        {
          "output_type": "execute_result",
          "data": {
            "text/plain": [
              "array([[-6, -7, -6],\n",
              "       [ 7,  9, -7],\n",
              "       [-8, -5,  5],\n",
              "       [-6, -1,  3]])"
            ]
          },
          "metadata": {},
          "execution_count": 50
        }
      ]
    },
    {
      "cell_type": "code",
      "source": [
        "import pandas as pd\n",
        "df=pd.read_csv('sales_data_sample.csv')\n",
        "df"
      ],
      "metadata": {
        "colab": {
          "base_uri": "https://localhost:8080/",
          "height": 669
        },
        "id": "-WjzXpJeDaFs",
        "outputId": "2bb854a9-4cea-47f5-a2c3-110021de26e9"
      },
      "execution_count": null,
      "outputs": [
        {
          "output_type": "execute_result",
          "data": {
            "text/plain": [
              "      ORDERNUMBER  QUANTITYORDERED  PRICEEACH  ORDERLINENUMBER    SALES  \\\n",
              "0           10107               30      95.70                2  2871.00   \n",
              "1           10121               34      81.35                5  2765.90   \n",
              "2           10134               41      94.74                2  3884.34   \n",
              "3           10145               45      83.26                6  3746.70   \n",
              "4           10159               49     100.00               14  5205.27   \n",
              "...           ...              ...        ...              ...      ...   \n",
              "2818        10350               20     100.00               15  2244.40   \n",
              "2819        10373               29     100.00                1  3978.51   \n",
              "2820        10386               43     100.00                4  5417.57   \n",
              "2821        10397               34      62.24                1  2116.16   \n",
              "2822        10414               47      65.52                9  3079.44   \n",
              "\n",
              "            ORDERDATE    STATUS  QTR_ID  MONTH_ID  YEAR_ID  ...  \\\n",
              "0      2/24/2003 0:00   Shipped       1         2     2003  ...   \n",
              "1     05-07-2003 0.00   Shipped       2         5     2003  ...   \n",
              "2     07-01-2003 0.00   Shipped       3         7     2003  ...   \n",
              "3      8/25/2003 0:00   Shipped       3         8     2003  ...   \n",
              "4     10-10-2003 0.00   Shipped       4        10     2003  ...   \n",
              "...               ...       ...     ...       ...      ...  ...   \n",
              "2818  12-02-2004 0.00   Shipped       4        12     2004  ...   \n",
              "2819   1/31/2005 0:00   Shipped       1         1     2005  ...   \n",
              "2820  03-01-2005 0.00  Resolved       1         3     2005  ...   \n",
              "2821   3/28/2005 0:00   Shipped       1         3     2005  ...   \n",
              "2822  05-06-2005 0.00   On Hold       2         5     2005  ...   \n",
              "\n",
              "                       ADDRESSLINE1  ADDRESSLINE2           CITY STATE  \\\n",
              "0           897 Long Airport Avenue           NaN            NYC    NY   \n",
              "1                59 rue de l'Abbaye           NaN          Reims   NaN   \n",
              "2     27 rue du Colonel Pierre Avia           NaN          Paris   NaN   \n",
              "3                78934 Hillside Dr.           NaN       Pasadena    CA   \n",
              "4                   7734 Strong St.           NaN  San Francisco    CA   \n",
              "...                             ...           ...            ...   ...   \n",
              "2818             C/ Moralzarzal, 86           NaN         Madrid   NaN   \n",
              "2819                    Torikatu 38           NaN           Oulu   NaN   \n",
              "2820             C/ Moralzarzal, 86           NaN         Madrid   NaN   \n",
              "2821          1 rue Alsace-Lorraine           NaN       Toulouse   NaN   \n",
              "2822             8616 Spinnaker Dr.           NaN         Boston    MA   \n",
              "\n",
              "     POSTALCODE  COUNTRY TERRITORY CONTACTLASTNAME CONTACTFIRSTNAME DEALSIZE  \n",
              "0         10022      USA       NaN              Yu             Kwai    Small  \n",
              "1         51100   France      EMEA         Henriot             Paul    Small  \n",
              "2         75508   France      EMEA        Da Cunha           Daniel   Medium  \n",
              "3         90003      USA       NaN           Young            Julie   Medium  \n",
              "4           NaN      USA       NaN           Brown            Julie   Medium  \n",
              "...         ...      ...       ...             ...              ...      ...  \n",
              "2818      28034    Spain      EMEA          Freyre            Diego    Small  \n",
              "2819      90110  Finland      EMEA       Koskitalo           Pirkko   Medium  \n",
              "2820      28034    Spain      EMEA          Freyre            Diego   Medium  \n",
              "2821      31000   France      EMEA          Roulet          Annette    Small  \n",
              "2822      51003      USA       NaN         Yoshido             Juri   Medium  \n",
              "\n",
              "[2823 rows x 25 columns]"
            ],
            "text/html": [
              "\n",
              "  <div id=\"df-381d8235-8669-4de0-96df-23f4f1942da0\" class=\"colab-df-container\">\n",
              "    <div>\n",
              "<style scoped>\n",
              "    .dataframe tbody tr th:only-of-type {\n",
              "        vertical-align: middle;\n",
              "    }\n",
              "\n",
              "    .dataframe tbody tr th {\n",
              "        vertical-align: top;\n",
              "    }\n",
              "\n",
              "    .dataframe thead th {\n",
              "        text-align: right;\n",
              "    }\n",
              "</style>\n",
              "<table border=\"1\" class=\"dataframe\">\n",
              "  <thead>\n",
              "    <tr style=\"text-align: right;\">\n",
              "      <th></th>\n",
              "      <th>ORDERNUMBER</th>\n",
              "      <th>QUANTITYORDERED</th>\n",
              "      <th>PRICEEACH</th>\n",
              "      <th>ORDERLINENUMBER</th>\n",
              "      <th>SALES</th>\n",
              "      <th>ORDERDATE</th>\n",
              "      <th>STATUS</th>\n",
              "      <th>QTR_ID</th>\n",
              "      <th>MONTH_ID</th>\n",
              "      <th>YEAR_ID</th>\n",
              "      <th>...</th>\n",
              "      <th>ADDRESSLINE1</th>\n",
              "      <th>ADDRESSLINE2</th>\n",
              "      <th>CITY</th>\n",
              "      <th>STATE</th>\n",
              "      <th>POSTALCODE</th>\n",
              "      <th>COUNTRY</th>\n",
              "      <th>TERRITORY</th>\n",
              "      <th>CONTACTLASTNAME</th>\n",
              "      <th>CONTACTFIRSTNAME</th>\n",
              "      <th>DEALSIZE</th>\n",
              "    </tr>\n",
              "  </thead>\n",
              "  <tbody>\n",
              "    <tr>\n",
              "      <th>0</th>\n",
              "      <td>10107</td>\n",
              "      <td>30</td>\n",
              "      <td>95.70</td>\n",
              "      <td>2</td>\n",
              "      <td>2871.00</td>\n",
              "      <td>2/24/2003 0:00</td>\n",
              "      <td>Shipped</td>\n",
              "      <td>1</td>\n",
              "      <td>2</td>\n",
              "      <td>2003</td>\n",
              "      <td>...</td>\n",
              "      <td>897 Long Airport Avenue</td>\n",
              "      <td>NaN</td>\n",
              "      <td>NYC</td>\n",
              "      <td>NY</td>\n",
              "      <td>10022</td>\n",
              "      <td>USA</td>\n",
              "      <td>NaN</td>\n",
              "      <td>Yu</td>\n",
              "      <td>Kwai</td>\n",
              "      <td>Small</td>\n",
              "    </tr>\n",
              "    <tr>\n",
              "      <th>1</th>\n",
              "      <td>10121</td>\n",
              "      <td>34</td>\n",
              "      <td>81.35</td>\n",
              "      <td>5</td>\n",
              "      <td>2765.90</td>\n",
              "      <td>05-07-2003 0.00</td>\n",
              "      <td>Shipped</td>\n",
              "      <td>2</td>\n",
              "      <td>5</td>\n",
              "      <td>2003</td>\n",
              "      <td>...</td>\n",
              "      <td>59 rue de l'Abbaye</td>\n",
              "      <td>NaN</td>\n",
              "      <td>Reims</td>\n",
              "      <td>NaN</td>\n",
              "      <td>51100</td>\n",
              "      <td>France</td>\n",
              "      <td>EMEA</td>\n",
              "      <td>Henriot</td>\n",
              "      <td>Paul</td>\n",
              "      <td>Small</td>\n",
              "    </tr>\n",
              "    <tr>\n",
              "      <th>2</th>\n",
              "      <td>10134</td>\n",
              "      <td>41</td>\n",
              "      <td>94.74</td>\n",
              "      <td>2</td>\n",
              "      <td>3884.34</td>\n",
              "      <td>07-01-2003 0.00</td>\n",
              "      <td>Shipped</td>\n",
              "      <td>3</td>\n",
              "      <td>7</td>\n",
              "      <td>2003</td>\n",
              "      <td>...</td>\n",
              "      <td>27 rue du Colonel Pierre Avia</td>\n",
              "      <td>NaN</td>\n",
              "      <td>Paris</td>\n",
              "      <td>NaN</td>\n",
              "      <td>75508</td>\n",
              "      <td>France</td>\n",
              "      <td>EMEA</td>\n",
              "      <td>Da Cunha</td>\n",
              "      <td>Daniel</td>\n",
              "      <td>Medium</td>\n",
              "    </tr>\n",
              "    <tr>\n",
              "      <th>3</th>\n",
              "      <td>10145</td>\n",
              "      <td>45</td>\n",
              "      <td>83.26</td>\n",
              "      <td>6</td>\n",
              "      <td>3746.70</td>\n",
              "      <td>8/25/2003 0:00</td>\n",
              "      <td>Shipped</td>\n",
              "      <td>3</td>\n",
              "      <td>8</td>\n",
              "      <td>2003</td>\n",
              "      <td>...</td>\n",
              "      <td>78934 Hillside Dr.</td>\n",
              "      <td>NaN</td>\n",
              "      <td>Pasadena</td>\n",
              "      <td>CA</td>\n",
              "      <td>90003</td>\n",
              "      <td>USA</td>\n",
              "      <td>NaN</td>\n",
              "      <td>Young</td>\n",
              "      <td>Julie</td>\n",
              "      <td>Medium</td>\n",
              "    </tr>\n",
              "    <tr>\n",
              "      <th>4</th>\n",
              "      <td>10159</td>\n",
              "      <td>49</td>\n",
              "      <td>100.00</td>\n",
              "      <td>14</td>\n",
              "      <td>5205.27</td>\n",
              "      <td>10-10-2003 0.00</td>\n",
              "      <td>Shipped</td>\n",
              "      <td>4</td>\n",
              "      <td>10</td>\n",
              "      <td>2003</td>\n",
              "      <td>...</td>\n",
              "      <td>7734 Strong St.</td>\n",
              "      <td>NaN</td>\n",
              "      <td>San Francisco</td>\n",
              "      <td>CA</td>\n",
              "      <td>NaN</td>\n",
              "      <td>USA</td>\n",
              "      <td>NaN</td>\n",
              "      <td>Brown</td>\n",
              "      <td>Julie</td>\n",
              "      <td>Medium</td>\n",
              "    </tr>\n",
              "    <tr>\n",
              "      <th>...</th>\n",
              "      <td>...</td>\n",
              "      <td>...</td>\n",
              "      <td>...</td>\n",
              "      <td>...</td>\n",
              "      <td>...</td>\n",
              "      <td>...</td>\n",
              "      <td>...</td>\n",
              "      <td>...</td>\n",
              "      <td>...</td>\n",
              "      <td>...</td>\n",
              "      <td>...</td>\n",
              "      <td>...</td>\n",
              "      <td>...</td>\n",
              "      <td>...</td>\n",
              "      <td>...</td>\n",
              "      <td>...</td>\n",
              "      <td>...</td>\n",
              "      <td>...</td>\n",
              "      <td>...</td>\n",
              "      <td>...</td>\n",
              "      <td>...</td>\n",
              "    </tr>\n",
              "    <tr>\n",
              "      <th>2818</th>\n",
              "      <td>10350</td>\n",
              "      <td>20</td>\n",
              "      <td>100.00</td>\n",
              "      <td>15</td>\n",
              "      <td>2244.40</td>\n",
              "      <td>12-02-2004 0.00</td>\n",
              "      <td>Shipped</td>\n",
              "      <td>4</td>\n",
              "      <td>12</td>\n",
              "      <td>2004</td>\n",
              "      <td>...</td>\n",
              "      <td>C/ Moralzarzal, 86</td>\n",
              "      <td>NaN</td>\n",
              "      <td>Madrid</td>\n",
              "      <td>NaN</td>\n",
              "      <td>28034</td>\n",
              "      <td>Spain</td>\n",
              "      <td>EMEA</td>\n",
              "      <td>Freyre</td>\n",
              "      <td>Diego</td>\n",
              "      <td>Small</td>\n",
              "    </tr>\n",
              "    <tr>\n",
              "      <th>2819</th>\n",
              "      <td>10373</td>\n",
              "      <td>29</td>\n",
              "      <td>100.00</td>\n",
              "      <td>1</td>\n",
              "      <td>3978.51</td>\n",
              "      <td>1/31/2005 0:00</td>\n",
              "      <td>Shipped</td>\n",
              "      <td>1</td>\n",
              "      <td>1</td>\n",
              "      <td>2005</td>\n",
              "      <td>...</td>\n",
              "      <td>Torikatu 38</td>\n",
              "      <td>NaN</td>\n",
              "      <td>Oulu</td>\n",
              "      <td>NaN</td>\n",
              "      <td>90110</td>\n",
              "      <td>Finland</td>\n",
              "      <td>EMEA</td>\n",
              "      <td>Koskitalo</td>\n",
              "      <td>Pirkko</td>\n",
              "      <td>Medium</td>\n",
              "    </tr>\n",
              "    <tr>\n",
              "      <th>2820</th>\n",
              "      <td>10386</td>\n",
              "      <td>43</td>\n",
              "      <td>100.00</td>\n",
              "      <td>4</td>\n",
              "      <td>5417.57</td>\n",
              "      <td>03-01-2005 0.00</td>\n",
              "      <td>Resolved</td>\n",
              "      <td>1</td>\n",
              "      <td>3</td>\n",
              "      <td>2005</td>\n",
              "      <td>...</td>\n",
              "      <td>C/ Moralzarzal, 86</td>\n",
              "      <td>NaN</td>\n",
              "      <td>Madrid</td>\n",
              "      <td>NaN</td>\n",
              "      <td>28034</td>\n",
              "      <td>Spain</td>\n",
              "      <td>EMEA</td>\n",
              "      <td>Freyre</td>\n",
              "      <td>Diego</td>\n",
              "      <td>Medium</td>\n",
              "    </tr>\n",
              "    <tr>\n",
              "      <th>2821</th>\n",
              "      <td>10397</td>\n",
              "      <td>34</td>\n",
              "      <td>62.24</td>\n",
              "      <td>1</td>\n",
              "      <td>2116.16</td>\n",
              "      <td>3/28/2005 0:00</td>\n",
              "      <td>Shipped</td>\n",
              "      <td>1</td>\n",
              "      <td>3</td>\n",
              "      <td>2005</td>\n",
              "      <td>...</td>\n",
              "      <td>1 rue Alsace-Lorraine</td>\n",
              "      <td>NaN</td>\n",
              "      <td>Toulouse</td>\n",
              "      <td>NaN</td>\n",
              "      <td>31000</td>\n",
              "      <td>France</td>\n",
              "      <td>EMEA</td>\n",
              "      <td>Roulet</td>\n",
              "      <td>Annette</td>\n",
              "      <td>Small</td>\n",
              "    </tr>\n",
              "    <tr>\n",
              "      <th>2822</th>\n",
              "      <td>10414</td>\n",
              "      <td>47</td>\n",
              "      <td>65.52</td>\n",
              "      <td>9</td>\n",
              "      <td>3079.44</td>\n",
              "      <td>05-06-2005 0.00</td>\n",
              "      <td>On Hold</td>\n",
              "      <td>2</td>\n",
              "      <td>5</td>\n",
              "      <td>2005</td>\n",
              "      <td>...</td>\n",
              "      <td>8616 Spinnaker Dr.</td>\n",
              "      <td>NaN</td>\n",
              "      <td>Boston</td>\n",
              "      <td>MA</td>\n",
              "      <td>51003</td>\n",
              "      <td>USA</td>\n",
              "      <td>NaN</td>\n",
              "      <td>Yoshido</td>\n",
              "      <td>Juri</td>\n",
              "      <td>Medium</td>\n",
              "    </tr>\n",
              "  </tbody>\n",
              "</table>\n",
              "<p>2823 rows × 25 columns</p>\n",
              "</div>\n",
              "    <div class=\"colab-df-buttons\">\n",
              "\n",
              "  <div class=\"colab-df-container\">\n",
              "    <button class=\"colab-df-convert\" onclick=\"convertToInteractive('df-381d8235-8669-4de0-96df-23f4f1942da0')\"\n",
              "            title=\"Convert this dataframe to an interactive table.\"\n",
              "            style=\"display:none;\">\n",
              "\n",
              "  <svg xmlns=\"http://www.w3.org/2000/svg\" height=\"24px\" viewBox=\"0 -960 960 960\">\n",
              "    <path d=\"M120-120v-720h720v720H120Zm60-500h600v-160H180v160Zm220 220h160v-160H400v160Zm0 220h160v-160H400v160ZM180-400h160v-160H180v160Zm440 0h160v-160H620v160ZM180-180h160v-160H180v160Zm440 0h160v-160H620v160Z\"/>\n",
              "  </svg>\n",
              "    </button>\n",
              "\n",
              "  <style>\n",
              "    .colab-df-container {\n",
              "      display:flex;\n",
              "      gap: 12px;\n",
              "    }\n",
              "\n",
              "    .colab-df-convert {\n",
              "      background-color: #E8F0FE;\n",
              "      border: none;\n",
              "      border-radius: 50%;\n",
              "      cursor: pointer;\n",
              "      display: none;\n",
              "      fill: #1967D2;\n",
              "      height: 32px;\n",
              "      padding: 0 0 0 0;\n",
              "      width: 32px;\n",
              "    }\n",
              "\n",
              "    .colab-df-convert:hover {\n",
              "      background-color: #E2EBFA;\n",
              "      box-shadow: 0px 1px 2px rgba(60, 64, 67, 0.3), 0px 1px 3px 1px rgba(60, 64, 67, 0.15);\n",
              "      fill: #174EA6;\n",
              "    }\n",
              "\n",
              "    .colab-df-buttons div {\n",
              "      margin-bottom: 4px;\n",
              "    }\n",
              "\n",
              "    [theme=dark] .colab-df-convert {\n",
              "      background-color: #3B4455;\n",
              "      fill: #D2E3FC;\n",
              "    }\n",
              "\n",
              "    [theme=dark] .colab-df-convert:hover {\n",
              "      background-color: #434B5C;\n",
              "      box-shadow: 0px 1px 3px 1px rgba(0, 0, 0, 0.15);\n",
              "      filter: drop-shadow(0px 1px 2px rgba(0, 0, 0, 0.3));\n",
              "      fill: #FFFFFF;\n",
              "    }\n",
              "  </style>\n",
              "\n",
              "    <script>\n",
              "      const buttonEl =\n",
              "        document.querySelector('#df-381d8235-8669-4de0-96df-23f4f1942da0 button.colab-df-convert');\n",
              "      buttonEl.style.display =\n",
              "        google.colab.kernel.accessAllowed ? 'block' : 'none';\n",
              "\n",
              "      async function convertToInteractive(key) {\n",
              "        const element = document.querySelector('#df-381d8235-8669-4de0-96df-23f4f1942da0');\n",
              "        const dataTable =\n",
              "          await google.colab.kernel.invokeFunction('convertToInteractive',\n",
              "                                                    [key], {});\n",
              "        if (!dataTable) return;\n",
              "\n",
              "        const docLinkHtml = 'Like what you see? Visit the ' +\n",
              "          '<a target=\"_blank\" href=https://colab.research.google.com/notebooks/data_table.ipynb>data table notebook</a>'\n",
              "          + ' to learn more about interactive tables.';\n",
              "        element.innerHTML = '';\n",
              "        dataTable['output_type'] = 'display_data';\n",
              "        await google.colab.output.renderOutput(dataTable, element);\n",
              "        const docLink = document.createElement('div');\n",
              "        docLink.innerHTML = docLinkHtml;\n",
              "        element.appendChild(docLink);\n",
              "      }\n",
              "    </script>\n",
              "  </div>\n",
              "\n",
              "\n",
              "    <div id=\"df-a353807b-1305-4143-8a2a-e591f6c1e8da\">\n",
              "      <button class=\"colab-df-quickchart\" onclick=\"quickchart('df-a353807b-1305-4143-8a2a-e591f6c1e8da')\"\n",
              "                title=\"Suggest charts\"\n",
              "                style=\"display:none;\">\n",
              "\n",
              "<svg xmlns=\"http://www.w3.org/2000/svg\" height=\"24px\"viewBox=\"0 0 24 24\"\n",
              "     width=\"24px\">\n",
              "    <g>\n",
              "        <path d=\"M19 3H5c-1.1 0-2 .9-2 2v14c0 1.1.9 2 2 2h14c1.1 0 2-.9 2-2V5c0-1.1-.9-2-2-2zM9 17H7v-7h2v7zm4 0h-2V7h2v10zm4 0h-2v-4h2v4z\"/>\n",
              "    </g>\n",
              "</svg>\n",
              "      </button>\n",
              "\n",
              "<style>\n",
              "  .colab-df-quickchart {\n",
              "      --bg-color: #E8F0FE;\n",
              "      --fill-color: #1967D2;\n",
              "      --hover-bg-color: #E2EBFA;\n",
              "      --hover-fill-color: #174EA6;\n",
              "      --disabled-fill-color: #AAA;\n",
              "      --disabled-bg-color: #DDD;\n",
              "  }\n",
              "\n",
              "  [theme=dark] .colab-df-quickchart {\n",
              "      --bg-color: #3B4455;\n",
              "      --fill-color: #D2E3FC;\n",
              "      --hover-bg-color: #434B5C;\n",
              "      --hover-fill-color: #FFFFFF;\n",
              "      --disabled-bg-color: #3B4455;\n",
              "      --disabled-fill-color: #666;\n",
              "  }\n",
              "\n",
              "  .colab-df-quickchart {\n",
              "    background-color: var(--bg-color);\n",
              "    border: none;\n",
              "    border-radius: 50%;\n",
              "    cursor: pointer;\n",
              "    display: none;\n",
              "    fill: var(--fill-color);\n",
              "    height: 32px;\n",
              "    padding: 0;\n",
              "    width: 32px;\n",
              "  }\n",
              "\n",
              "  .colab-df-quickchart:hover {\n",
              "    background-color: var(--hover-bg-color);\n",
              "    box-shadow: 0 1px 2px rgba(60, 64, 67, 0.3), 0 1px 3px 1px rgba(60, 64, 67, 0.15);\n",
              "    fill: var(--button-hover-fill-color);\n",
              "  }\n",
              "\n",
              "  .colab-df-quickchart-complete:disabled,\n",
              "  .colab-df-quickchart-complete:disabled:hover {\n",
              "    background-color: var(--disabled-bg-color);\n",
              "    fill: var(--disabled-fill-color);\n",
              "    box-shadow: none;\n",
              "  }\n",
              "\n",
              "  .colab-df-spinner {\n",
              "    border: 2px solid var(--fill-color);\n",
              "    border-color: transparent;\n",
              "    border-bottom-color: var(--fill-color);\n",
              "    animation:\n",
              "      spin 1s steps(1) infinite;\n",
              "  }\n",
              "\n",
              "  @keyframes spin {\n",
              "    0% {\n",
              "      border-color: transparent;\n",
              "      border-bottom-color: var(--fill-color);\n",
              "      border-left-color: var(--fill-color);\n",
              "    }\n",
              "    20% {\n",
              "      border-color: transparent;\n",
              "      border-left-color: var(--fill-color);\n",
              "      border-top-color: var(--fill-color);\n",
              "    }\n",
              "    30% {\n",
              "      border-color: transparent;\n",
              "      border-left-color: var(--fill-color);\n",
              "      border-top-color: var(--fill-color);\n",
              "      border-right-color: var(--fill-color);\n",
              "    }\n",
              "    40% {\n",
              "      border-color: transparent;\n",
              "      border-right-color: var(--fill-color);\n",
              "      border-top-color: var(--fill-color);\n",
              "    }\n",
              "    60% {\n",
              "      border-color: transparent;\n",
              "      border-right-color: var(--fill-color);\n",
              "    }\n",
              "    80% {\n",
              "      border-color: transparent;\n",
              "      border-right-color: var(--fill-color);\n",
              "      border-bottom-color: var(--fill-color);\n",
              "    }\n",
              "    90% {\n",
              "      border-color: transparent;\n",
              "      border-bottom-color: var(--fill-color);\n",
              "    }\n",
              "  }\n",
              "</style>\n",
              "\n",
              "      <script>\n",
              "        async function quickchart(key) {\n",
              "          const quickchartButtonEl =\n",
              "            document.querySelector('#' + key + ' button');\n",
              "          quickchartButtonEl.disabled = true;  // To prevent multiple clicks.\n",
              "          quickchartButtonEl.classList.add('colab-df-spinner');\n",
              "          try {\n",
              "            const charts = await google.colab.kernel.invokeFunction(\n",
              "                'suggestCharts', [key], {});\n",
              "          } catch (error) {\n",
              "            console.error('Error during call to suggestCharts:', error);\n",
              "          }\n",
              "          quickchartButtonEl.classList.remove('colab-df-spinner');\n",
              "          quickchartButtonEl.classList.add('colab-df-quickchart-complete');\n",
              "        }\n",
              "        (() => {\n",
              "          let quickchartButtonEl =\n",
              "            document.querySelector('#df-a353807b-1305-4143-8a2a-e591f6c1e8da button');\n",
              "          quickchartButtonEl.style.display =\n",
              "            google.colab.kernel.accessAllowed ? 'block' : 'none';\n",
              "        })();\n",
              "      </script>\n",
              "    </div>\n",
              "\n",
              "  <div id=\"id_1d4dd5e1-6f05-4bfe-af5b-93b3f65ffc18\">\n",
              "    <style>\n",
              "      .colab-df-generate {\n",
              "        background-color: #E8F0FE;\n",
              "        border: none;\n",
              "        border-radius: 50%;\n",
              "        cursor: pointer;\n",
              "        display: none;\n",
              "        fill: #1967D2;\n",
              "        height: 32px;\n",
              "        padding: 0 0 0 0;\n",
              "        width: 32px;\n",
              "      }\n",
              "\n",
              "      .colab-df-generate:hover {\n",
              "        background-color: #E2EBFA;\n",
              "        box-shadow: 0px 1px 2px rgba(60, 64, 67, 0.3), 0px 1px 3px 1px rgba(60, 64, 67, 0.15);\n",
              "        fill: #174EA6;\n",
              "      }\n",
              "\n",
              "      [theme=dark] .colab-df-generate {\n",
              "        background-color: #3B4455;\n",
              "        fill: #D2E3FC;\n",
              "      }\n",
              "\n",
              "      [theme=dark] .colab-df-generate:hover {\n",
              "        background-color: #434B5C;\n",
              "        box-shadow: 0px 1px 3px 1px rgba(0, 0, 0, 0.15);\n",
              "        filter: drop-shadow(0px 1px 2px rgba(0, 0, 0, 0.3));\n",
              "        fill: #FFFFFF;\n",
              "      }\n",
              "    </style>\n",
              "    <button class=\"colab-df-generate\" onclick=\"generateWithVariable('df')\"\n",
              "            title=\"Generate code using this dataframe.\"\n",
              "            style=\"display:none;\">\n",
              "\n",
              "  <svg xmlns=\"http://www.w3.org/2000/svg\" height=\"24px\"viewBox=\"0 0 24 24\"\n",
              "       width=\"24px\">\n",
              "    <path d=\"M7,19H8.4L18.45,9,17,7.55,7,17.6ZM5,21V16.75L18.45,3.32a2,2,0,0,1,2.83,0l1.4,1.43a1.91,1.91,0,0,1,.58,1.4,1.91,1.91,0,0,1-.58,1.4L9.25,21ZM18.45,9,17,7.55Zm-12,3A5.31,5.31,0,0,0,4.9,8.1,5.31,5.31,0,0,0,1,6.5,5.31,5.31,0,0,0,4.9,4.9,5.31,5.31,0,0,0,6.5,1,5.31,5.31,0,0,0,8.1,4.9,5.31,5.31,0,0,0,12,6.5,5.46,5.46,0,0,0,6.5,12Z\"/>\n",
              "  </svg>\n",
              "    </button>\n",
              "    <script>\n",
              "      (() => {\n",
              "      const buttonEl =\n",
              "        document.querySelector('#id_1d4dd5e1-6f05-4bfe-af5b-93b3f65ffc18 button.colab-df-generate');\n",
              "      buttonEl.style.display =\n",
              "        google.colab.kernel.accessAllowed ? 'block' : 'none';\n",
              "\n",
              "      buttonEl.onclick = () => {\n",
              "        google.colab.notebook.generateWithVariable('df');\n",
              "      }\n",
              "      })();\n",
              "    </script>\n",
              "  </div>\n",
              "\n",
              "    </div>\n",
              "  </div>\n"
            ],
            "application/vnd.google.colaboratory.intrinsic+json": {
              "type": "dataframe",
              "variable_name": "df"
            }
          },
          "metadata": {},
          "execution_count": 2
        }
      ]
    }
  ]
}