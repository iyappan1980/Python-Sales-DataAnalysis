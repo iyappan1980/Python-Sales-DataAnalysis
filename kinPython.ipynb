{
  "nbformat": 4,
  "nbformat_minor": 0,
  "metadata": {
    "colab": {
      "provenance": []
    },
    "kernelspec": {
      "name": "python3",
      "display_name": "Python 3"
    },
    "language_info": {
      "name": "python"
    }
  },
  "cells": [
    {
      "cell_type": "code",
      "execution_count": null,
      "metadata": {
        "colab": {
          "base_uri": "https://localhost:8080/"
        },
        "id": "7fc1t2XDc-8v",
        "outputId": "f175969c-f4b2-473b-e0fd-90cc3c6b40de"
      },
      "outputs": [
        {
          "output_type": "stream",
          "name": "stdout",
          "text": [
            "HELLO FMT\n"
          ]
        }
      ],
      "source": [
        "print(\"HELLO FMT\")"
      ]
    },
    {
      "cell_type": "code",
      "source": [
        "x=4\n",
        "#x=\"Iyappan\"\n",
        "print(x)"
      ],
      "metadata": {
        "id": "R0AnJ7TldEaS",
        "colab": {
          "base_uri": "https://localhost:8080/"
        },
        "outputId": "3128c7fc-14e8-41f5-d6f5-a0aa2f993b5e"
      },
      "execution_count": null,
      "outputs": [
        {
          "output_type": "stream",
          "name": "stdout",
          "text": [
            "4\n"
          ]
        }
      ]
    },
    {
      "cell_type": "code",
      "source": [
        "#Write a program that takes 3 no.s as input, print the sum on them.\n",
        "a=int(input(\"Enter Value 1:\"))\n",
        "b=int(input(\"Enter Value 2:\"))\n",
        "c=int(input(\"Enter Value 3:\"))\n",
        "d=a+b+c\n",
        "print(\"Sum\", d)"
      ],
      "metadata": {
        "colab": {
          "base_uri": "https://localhost:8080/"
        },
        "id": "HPvuZxNCbuoA",
        "outputId": "7af4248a-4e15-440f-be3c-53a95537f342"
      },
      "execution_count": null,
      "outputs": [
        {
          "output_type": "stream",
          "name": "stdout",
          "text": [
            "Enter Value 1:5\n",
            "Enter Value 2:5\n",
            "Enter Value 3:5\n",
            "Sum 15\n"
          ]
        }
      ]
    },
    {
      "cell_type": "code",
      "source": [
        "'''\n",
        "Write a program that takes lenght and height as input, print the area of rectangle.\n",
        "Calculate the Area\n",
        "Enter length and height\n",
        "'''\n",
        "a=int(input(\"Enter Length :\"))\n",
        "b=int(input(\"Enter Height :\"))\n",
        "c=a*b\n",
        "print(\"Area\", c)"
      ],
      "metadata": {
        "colab": {
          "base_uri": "https://localhost:8080/"
        },
        "id": "stKq97gXdhP3",
        "outputId": "b6d4d396-95bb-4540-c179-2079a91d32d5"
      },
      "execution_count": null,
      "outputs": [
        {
          "output_type": "stream",
          "name": "stdout",
          "text": [
            "Enter Length :9\n",
            "Enter Height :15\n",
            "Area 135\n"
          ]
        }
      ]
    },
    {
      "cell_type": "code",
      "source": [
        "#Arthemtic operation: Write a program that takes two numbers and performs all arithmetic operations on them.\n",
        "a=int(input(\"Enter number 1 :\"))\n",
        "b=int(input(\"Enter number 2 :\"))\n",
        "print(\"addition:\",a+b)\n",
        "print(\"subtraction:\",a-b)\n",
        "print(\"multiplication:\",a*b)\n",
        "print(\"division:\",a/b)\n",
        "print(\"floor division:\",a//b)\n",
        "print(\"modulus:\",a%b)\n",
        "print(\"exponent:\",a**b)"
      ],
      "metadata": {
        "colab": {
          "base_uri": "https://localhost:8080/"
        },
        "id": "WUges6yzekN7",
        "outputId": "9b43a03a-f5c8-4cf3-90e7-474295942c64"
      },
      "execution_count": null,
      "outputs": [
        {
          "output_type": "stream",
          "name": "stdout",
          "text": [
            "Enter number 1 :5\n",
            "Enter number 2 :6\n",
            "addition: 11\n",
            "subtraction: -1\n",
            "multiplication: 30\n",
            "division: 0.8333333333333334\n",
            "floor division: 0\n",
            "modulus: 5\n",
            "exponent: 15625\n"
          ]
        }
      ]
    },
    {
      "cell_type": "code",
      "source": [
        "name = \"Iyappan\"\n",
        "age = 35\n",
        "height = 53.5\n",
        "student_type = False\n",
        "print(name, type(name))\n",
        "print(age, type(age))\n",
        "print(height, type(height))\n",
        "print(student_type, type(student_type))"
      ],
      "metadata": {
        "colab": {
          "base_uri": "https://localhost:8080/"
        },
        "id": "U0CgCUYQcAS2",
        "outputId": "8866c1a2-3abe-486a-cdaf-024a9615b54d"
      },
      "execution_count": null,
      "outputs": [
        {
          "output_type": "stream",
          "name": "stdout",
          "text": [
            "Iyappan <class 'str'>\n",
            "35 <class 'int'>\n",
            "53.5 <class 'float'>\n",
            "False <class 'bool'>\n"
          ]
        }
      ]
    },
    {
      "cell_type": "code",
      "source": [
        "#Write a program that takes a number and prints its square and cube.\n",
        "num=int(input(\"Enter number :\"))\n",
        "\n",
        "squre = num ** 2\n",
        "cube =  num ** 3\n",
        "print(\"squre:\",squre)\n",
        "print(\"sqcube:\",cube)"
      ],
      "metadata": {
        "colab": {
          "base_uri": "https://localhost:8080/"
        },
        "id": "X5MBwdQvgWZP",
        "outputId": "04af20bb-7068-4d9a-8148-317256fa27fe"
      },
      "execution_count": null,
      "outputs": [
        {
          "output_type": "stream",
          "name": "stdout",
          "text": [
            "Enter number :2\n",
            "squre: 4\n",
            "sqcube: 8\n"
          ]
        }
      ]
    },
    {
      "cell_type": "code",
      "source": [
        "#Write a program that takes marks of 3 subjects, calculates the total and average.\n",
        "maths = int(input(\"Enter maths mark :\"))\n",
        "science = int(input(\"Enter science mark :\"))\n",
        "eng = int(input(\"Enter english mark :\"))\n",
        "total = maths + science + eng\n",
        "print(\"Total \", total)\n",
        "print(\"Average\", total / 3)"
      ],
      "metadata": {
        "colab": {
          "base_uri": "https://localhost:8080/"
        },
        "id": "RSVq-Ta7iBM9",
        "outputId": "b8540f28-b064-4b27-d4be-ee446074bb13"
      },
      "execution_count": null,
      "outputs": [
        {
          "output_type": "stream",
          "name": "stdout",
          "text": [
            "Enter maths mark :5\n",
            "Enter science mark :6\n",
            "Enter english mark :3\n",
            "Total  14\n",
            "Average 4.666666666666667\n"
          ]
        }
      ]
    },
    {
      "cell_type": "code",
      "source": [
        "#Write a program to calculate the area and circumference of a circle. (Take radius as input)\n",
        "r = int(input(\"Enter radius:\"))\n",
        "area = 3.14 * (r**2)\n",
        "cir = 2 * 3.14 * r\n",
        "print(\"area \", area)\n",
        "print(\"circumference \", cir)"
      ],
      "metadata": {
        "colab": {
          "base_uri": "https://localhost:8080/"
        },
        "id": "O4zkE37lkOf1",
        "outputId": "ac3f314f-ae82-460d-bc65-800520374fc5"
      },
      "execution_count": null,
      "outputs": [
        {
          "output_type": "stream",
          "name": "stdout",
          "text": [
            "Enter radius:5\n",
            "area  78.5\n",
            "circumference  31.400000000000002\n"
          ]
        }
      ]
    },
    {
      "cell_type": "code",
      "source": [
        "#Write a program to calculate the simple interest (SI = PRT / 100).(Take P,R,T as input)\n",
        "p = int(input(\"Enter p :\"))\n",
        "r = int(input(\"Enter r :\"))\n",
        "t = int(input(\"Enter t :\"))\n",
        "si = p*r*t/100\n",
        "print(\"simple interest \", si)"
      ],
      "metadata": {
        "colab": {
          "base_uri": "https://localhost:8080/"
        },
        "id": "fL9_9J1fioLf",
        "outputId": "6fc5878c-d767-484b-8588-139d3e6b9ae4"
      },
      "execution_count": null,
      "outputs": [
        {
          "output_type": "stream",
          "name": "stdout",
          "text": [
            "Enter maths mark :5\n",
            "Enter science mark :6\n",
            "Enter english mark :3\n",
            "simple interest  0.9\n"
          ]
        }
      ]
    },
    {
      "cell_type": "code",
      "source": [
        "#Write a program to swap the values of two variables.\n",
        "a = int(input(\"Enter a :\"))\n",
        "b = int(input(\"Enter b :\"))\n",
        "a, b = b, a;\n",
        "print(\"Swap values\",a,b)"
      ],
      "metadata": {
        "colab": {
          "base_uri": "https://localhost:8080/"
        },
        "id": "LYhkiMmOjfkB",
        "outputId": "5ff9e8b5-d608-425a-ce29-ed340d493db9"
      },
      "execution_count": null,
      "outputs": [
        {
          "output_type": "stream",
          "name": "stdout",
          "text": [
            "Enter a :8\n",
            "Enter b :5\n",
            "Swap values 5 8\n"
          ]
        }
      ]
    },
    {
      "cell_type": "code",
      "source": [
        "fruits = [\"apple\",\"bannana\",\"orange\"]\n",
        "fruits\n",
        "fruits.reverse()\n",
        "fruits"
      ],
      "metadata": {
        "colab": {
          "base_uri": "https://localhost:8080/"
        },
        "id": "9-lDgIYEVZNN",
        "outputId": "835dbe63-e73c-4d6f-c460-49f51dbd3e73"
      },
      "execution_count": null,
      "outputs": [
        {
          "output_type": "execute_result",
          "data": {
            "text/plain": [
              "['orange', 'bannana', 'apple']"
            ]
          },
          "metadata": {},
          "execution_count": 2
        }
      ]
    },
    {
      "cell_type": "code",
      "source": [
        "age = 12\n",
        "if age >= 18 :\n",
        "  print(\"you are eligible to vote\")\n",
        "else:\n",
        "  print(\"you are not eligible to vote\")\n"
      ],
      "metadata": {
        "colab": {
          "base_uri": "https://localhost:8080/"
        },
        "id": "to9vBcc-Ymoa",
        "outputId": "51e45405-26d0-4a52-e607-02fbf5ceef15"
      },
      "execution_count": null,
      "outputs": [
        {
          "output_type": "stream",
          "name": "stdout",
          "text": [
            "you are not eligible to vote\n"
          ]
        }
      ]
    },
    {
      "cell_type": "code",
      "source": [
        "age = 51\n",
        "if age <= 19:\n",
        "  print(\"you are younger\")\n",
        "elif age>19 and age<=50:\n",
        "  print(\"you are middle age\")\n",
        "else:\n",
        "  print(\"you are old\")"
      ],
      "metadata": {
        "colab": {
          "base_uri": "https://localhost:8080/"
        },
        "id": "kGUfvuR-ZOol",
        "outputId": "945346a5-1eae-46fb-f4e3-f3714aae0db4"
      },
      "execution_count": null,
      "outputs": [
        {
          "output_type": "stream",
          "name": "stdout",
          "text": [
            "you are old\n"
          ]
        }
      ]
    },
    {
      "cell_type": "code",
      "source": [
        "fruits = [\"apple\",\"bannana\",\"orange\"]\n",
        "fruits.append(\"mango\")\n",
        "fruits[0]=\"kiwi\"\n",
        "fruits"
      ],
      "metadata": {
        "colab": {
          "base_uri": "https://localhost:8080/"
        },
        "id": "tklXF-taaeNK",
        "outputId": "2962e510-746d-4876-a058-dd81ea7cfb39"
      },
      "execution_count": null,
      "outputs": [
        {
          "output_type": "execute_result",
          "data": {
            "text/plain": [
              "['kiwi', 'bannana', 'orange', 'mango']"
            ]
          },
          "metadata": {},
          "execution_count": 8
        }
      ]
    },
    {
      "cell_type": "code",
      "source": [
        "# Tuple - ordered, unchangeable, allows duplicates\n",
        "cars = (\"Honda\",\"Hyndai\",\"BMW\",\"Audi\",\"BMW\")\n",
        "print(cars)"
      ],
      "metadata": {
        "colab": {
          "base_uri": "https://localhost:8080/"
        },
        "id": "99wwOI17ayMO",
        "outputId": "7ba166c3-cc0a-46ad-bf29-ddb3a101173f"
      },
      "execution_count": null,
      "outputs": [
        {
          "output_type": "stream",
          "name": "stdout",
          "text": [
            "('Honda', 'Hyndai', 'BMW', 'Audi', 'BMW')\n"
          ]
        }
      ]
    },
    {
      "cell_type": "code",
      "source": [
        "print(cars[3])"
      ],
      "metadata": {
        "colab": {
          "base_uri": "https://localhost:8080/"
        },
        "id": "SLTBAA6BbOVK",
        "outputId": "1741a6ab-9692-4e8a-b7b5-7cb0217148df"
      },
      "execution_count": null,
      "outputs": [
        {
          "output_type": "stream",
          "name": "stdout",
          "text": [
            "Audi\n"
          ]
        }
      ]
    },
    {
      "cell_type": "code",
      "source": [
        "# Set - unordered, changeable, no duplicate itemsc= {1, 2, 3, 3, 2}\n",
        "veichle = {\"Car\", \"Bike\", \"Truck\",\"Cars\"}\n",
        "veichle\n"
      ],
      "metadata": {
        "colab": {
          "base_uri": "https://localhost:8080/"
        },
        "id": "Uk8APEtWbXm-",
        "outputId": "9aa2bd88-9e56-4d79-f72f-d55eeb7c68e0"
      },
      "execution_count": null,
      "outputs": [
        {
          "output_type": "execute_result",
          "data": {
            "text/plain": [
              "{'Bike', 'Car', 'Cars', 'Truck'}"
            ]
          },
          "metadata": {},
          "execution_count": 11
        }
      ]
    },
    {
      "cell_type": "code",
      "source": [
        "# Dictionary - key-value pairs\n",
        "employee = {\n",
        "    \"name\": \"Iyappan\",\n",
        "    \"department\": \"IT\",\n",
        "    \"salray\": 10000\n",
        "\n",
        "}\n",
        "print(employee)"
      ],
      "metadata": {
        "colab": {
          "base_uri": "https://localhost:8080/"
        },
        "id": "jnIZQqRAb1Q4",
        "outputId": "63fb24fd-ed33-41cc-fe00-e3bb61470b8d"
      },
      "execution_count": null,
      "outputs": [
        {
          "output_type": "stream",
          "name": "stdout",
          "text": [
            "{'name': 'Iyappan', 'department': 'IT', 'salray': 10000}\n"
          ]
        }
      ]
    },
    {
      "cell_type": "code",
      "source": [
        "#Take a number as input and print whether it is divisible by 5 and 11 or not.\n",
        "num = int(input(\"enter no\"))\n",
        "if num % 5 == 0 or num % 11 == 0:\n",
        "  print(\"number is divisible\")\n",
        "else:\n",
        "  print(\"number is not divisible\")"
      ],
      "metadata": {
        "colab": {
          "base_uri": "https://localhost:8080/"
        },
        "id": "CRBeYn6FdFju",
        "outputId": "25bf01db-0de4-4fdf-acfb-cdd098d3e3c6"
      },
      "execution_count": null,
      "outputs": [
        {
          "output_type": "stream",
          "name": "stdout",
          "text": [
            "enter no5\n",
            "number is divisible\n"
          ]
        }
      ]
    },
    {
      "cell_type": "code",
      "source": [
        "#Create a list of 4 numbers. Replace the second number with the sum of the first and last number. Print the updated list.\n",
        "lnum = [5,6,7,8]\n",
        "lnum[1] =lnum[0] + lnum[3]\n",
        "print(lnum)\n"
      ],
      "metadata": {
        "colab": {
          "base_uri": "https://localhost:8080/"
        },
        "id": "AWaPFfG-eTiZ",
        "outputId": "b9a8bb58-4b37-4fe3-ceba-539018d7e468"
      },
      "execution_count": null,
      "outputs": [
        {
          "output_type": "stream",
          "name": "stdout",
          "text": [
            "[5, 13, 7, 8]\n"
          ]
        }
      ]
    },
    {
      "cell_type": "code",
      "source": [
        "#Create a tuple of three programming languages. Print the first and last element using indexing.\n",
        "languages = (\"python\",\"Jave\",\"C++\")\n",
        "print(languages[0])\n",
        "print(languages[2])"
      ],
      "metadata": {
        "colab": {
          "base_uri": "https://localhost:8080/"
        },
        "id": "cJk1998de173",
        "outputId": "24ef89ef-1eae-40b1-d331-edbaf487471c"
      },
      "execution_count": null,
      "outputs": [
        {
          "output_type": "stream",
          "name": "stdout",
          "text": [
            "python\n",
            "C++\n"
          ]
        }
      ]
    },
    {
      "cell_type": "code",
      "source": [
        "#Make a set of numbers: {2, 4, 6, 8}. Add 10 and check whether 5 exists in the set or not.\n",
        "num = {2, 4, 6, 8}\n",
        "num.add(10)\n",
        "print(num)\n",
        "if 5 in num:\n",
        "  print(\"exists\")\n",
        "else:\n",
        "  print(\"not exists\")"
      ],
      "metadata": {
        "colab": {
          "base_uri": "https://localhost:8080/"
        },
        "id": "9Cy3WuO1fXod",
        "outputId": "f18e42ad-9050-4f7b-8e14-12d9c00c23ee"
      },
      "execution_count": null,
      "outputs": [
        {
          "output_type": "stream",
          "name": "stdout",
          "text": [
            "{2, 4, 6, 8, 10}\n",
            "not exists\n"
          ]
        }
      ]
    },
    {
      "cell_type": "code",
      "source": [
        "#Create a dictionary with student details: \"name\", \"marks\", and \"class\". Update the marks and add a new key \"passed\" with value True.\n",
        "student = {\n",
        "    \"name\": \"Iyappan\",\n",
        "    \"marks\": 90,\n",
        "    \"class\":\"AI\"\n",
        "},\n",
        "student[\"age\"]: 31\n",
        "print(student)"
      ],
      "metadata": {
        "colab": {
          "base_uri": "https://localhost:8080/"
        },
        "id": "V-uidn7jgPbK",
        "outputId": "7f3d3b60-708e-439e-c2ff-a0e1d8dc4b72"
      },
      "execution_count": null,
      "outputs": [
        {
          "output_type": "stream",
          "name": "stdout",
          "text": [
            "({'name': 'Iyappan', 'marks': 90, 'class': 'AI'},)\n"
          ]
        }
      ]
    },
    {
      "cell_type": "code",
      "source": [
        "for i in range(5):\n",
        "  print(\"FMT\")\n"
      ],
      "metadata": {
        "colab": {
          "base_uri": "https://localhost:8080/"
        },
        "id": "pWiqKgpFZuNn",
        "outputId": "dfc8a3a8-3b52-476f-fe4e-b4b4ff51dccf"
      },
      "execution_count": null,
      "outputs": [
        {
          "output_type": "stream",
          "name": "stdout",
          "text": [
            "FMT\n",
            "FMT\n",
            "FMT\n",
            "FMT\n",
            "FMT\n"
          ]
        }
      ]
    },
    {
      "cell_type": "code",
      "source": [
        "for i in range(1,10,2):\n",
        "  print(\"Number\", i)"
      ],
      "metadata": {
        "colab": {
          "base_uri": "https://localhost:8080/"
        },
        "id": "b6uHriKrizfH",
        "outputId": "84f8aa4c-3ff6-4354-8399-d70bcd37fd70"
      },
      "execution_count": null,
      "outputs": [
        {
          "output_type": "stream",
          "name": "stdout",
          "text": [
            "Number 1\n",
            "Number 3\n",
            "Number 5\n",
            "Number 7\n",
            "Number 9\n"
          ]
        }
      ]
    },
    {
      "cell_type": "code",
      "source": [
        "cars = [\"Honda\",\"BMW\",\"Audi\",\"Benz\"]\n",
        "for car in cars:\n",
        "  print(\"I like \", car)"
      ],
      "metadata": {
        "colab": {
          "base_uri": "https://localhost:8080/"
        },
        "id": "vsrFoVOyjEZt",
        "outputId": "3a620975-2c2c-425c-cced-229832219f0a"
      },
      "execution_count": null,
      "outputs": [
        {
          "output_type": "stream",
          "name": "stdout",
          "text": [
            "I like  Honda\n",
            "I like  BMW\n",
            "I like  Audi\n",
            "I like  Benz\n"
          ]
        }
      ]
    },
    {
      "cell_type": "code",
      "source": [
        "count = 0\n",
        "while count < 10:\n",
        "  print(\"Number \", count)\n",
        "  count+=1"
      ],
      "metadata": {
        "colab": {
          "base_uri": "https://localhost:8080/"
        },
        "id": "7b9HqRKqj8cJ",
        "outputId": "69e154af-6e8e-4bdf-fad8-f4a0d7d1effe"
      },
      "execution_count": null,
      "outputs": [
        {
          "output_type": "stream",
          "name": "stdout",
          "text": [
            "Number  0\n",
            "Number  1\n",
            "Number  2\n",
            "Number  3\n",
            "Number  4\n",
            "Number  5\n",
            "Number  6\n",
            "Number  7\n",
            "Number  8\n",
            "Number  9\n"
          ]
        }
      ]
    },
    {
      "cell_type": "code",
      "source": [
        "for ol in range(3):\n",
        "  for il in range(5):\n",
        "    print(\"outer:\",ol,\"inner:\",il)\n"
      ],
      "metadata": {
        "colab": {
          "base_uri": "https://localhost:8080/"
        },
        "id": "-wyA12qJkJx3",
        "outputId": "3357e1c1-8072-4900-852b-64c1c8a1bf2d"
      },
      "execution_count": null,
      "outputs": [
        {
          "output_type": "stream",
          "name": "stdout",
          "text": [
            "outer: 0 inner: 0\n",
            "outer: 0 inner: 1\n",
            "outer: 0 inner: 2\n",
            "outer: 0 inner: 3\n",
            "outer: 0 inner: 4\n",
            "outer: 1 inner: 0\n",
            "outer: 1 inner: 1\n",
            "outer: 1 inner: 2\n",
            "outer: 1 inner: 3\n",
            "outer: 1 inner: 4\n",
            "outer: 2 inner: 0\n",
            "outer: 2 inner: 1\n",
            "outer: 2 inner: 2\n",
            "outer: 2 inner: 3\n",
            "outer: 2 inner: 4\n"
          ]
        }
      ]
    },
    {
      "cell_type": "code",
      "source": [
        "for ol in range(6):\n",
        "  for il in range(10):\n",
        "    print(\"#\"*ol*il, \"outer value:\", ol, \"inner value:\", il)"
      ],
      "metadata": {
        "colab": {
          "base_uri": "https://localhost:8080/"
        },
        "id": "nWQDEuypksJY",
        "outputId": "bc9cb651-d2d0-477b-f6c6-fd84dba929a6"
      },
      "execution_count": null,
      "outputs": [
        {
          "output_type": "stream",
          "name": "stdout",
          "text": [
            " outer value: 0 inner value: 0\n",
            " outer value: 0 inner value: 1\n",
            " outer value: 0 inner value: 2\n",
            " outer value: 0 inner value: 3\n",
            " outer value: 0 inner value: 4\n",
            " outer value: 0 inner value: 5\n",
            " outer value: 0 inner value: 6\n",
            " outer value: 0 inner value: 7\n",
            " outer value: 0 inner value: 8\n",
            " outer value: 0 inner value: 9\n",
            " outer value: 1 inner value: 0\n",
            "# outer value: 1 inner value: 1\n",
            "## outer value: 1 inner value: 2\n",
            "### outer value: 1 inner value: 3\n",
            "#### outer value: 1 inner value: 4\n",
            "##### outer value: 1 inner value: 5\n",
            "###### outer value: 1 inner value: 6\n",
            "####### outer value: 1 inner value: 7\n",
            "######## outer value: 1 inner value: 8\n",
            "######### outer value: 1 inner value: 9\n",
            " outer value: 2 inner value: 0\n",
            "## outer value: 2 inner value: 1\n",
            "#### outer value: 2 inner value: 2\n",
            "###### outer value: 2 inner value: 3\n",
            "######## outer value: 2 inner value: 4\n",
            "########## outer value: 2 inner value: 5\n",
            "############ outer value: 2 inner value: 6\n",
            "############## outer value: 2 inner value: 7\n",
            "################ outer value: 2 inner value: 8\n",
            "################## outer value: 2 inner value: 9\n",
            " outer value: 3 inner value: 0\n",
            "### outer value: 3 inner value: 1\n",
            "###### outer value: 3 inner value: 2\n",
            "######### outer value: 3 inner value: 3\n",
            "############ outer value: 3 inner value: 4\n",
            "############### outer value: 3 inner value: 5\n",
            "################## outer value: 3 inner value: 6\n",
            "##################### outer value: 3 inner value: 7\n",
            "######################## outer value: 3 inner value: 8\n",
            "########################### outer value: 3 inner value: 9\n",
            " outer value: 4 inner value: 0\n",
            "#### outer value: 4 inner value: 1\n",
            "######## outer value: 4 inner value: 2\n",
            "############ outer value: 4 inner value: 3\n",
            "################ outer value: 4 inner value: 4\n",
            "#################### outer value: 4 inner value: 5\n",
            "######################## outer value: 4 inner value: 6\n",
            "############################ outer value: 4 inner value: 7\n",
            "################################ outer value: 4 inner value: 8\n",
            "#################################### outer value: 4 inner value: 9\n",
            " outer value: 5 inner value: 0\n",
            "##### outer value: 5 inner value: 1\n",
            "########## outer value: 5 inner value: 2\n",
            "############### outer value: 5 inner value: 3\n",
            "#################### outer value: 5 inner value: 4\n",
            "######################### outer value: 5 inner value: 5\n",
            "############################## outer value: 5 inner value: 6\n",
            "################################### outer value: 5 inner value: 7\n",
            "######################################## outer value: 5 inner value: 8\n",
            "############################################# outer value: 5 inner value: 9\n"
          ]
        }
      ]
    },
    {
      "cell_type": "code",
      "source": [
        "for ol in range(6):\n",
        "  for il in range(15):\n",
        "   print(\"$\", end=\"\")\n",
        "  print()"
      ],
      "metadata": {
        "colab": {
          "base_uri": "https://localhost:8080/"
        },
        "id": "5fe0rs_lmFU-",
        "outputId": "80c43494-93c7-4fc1-f4e1-d6370bce94fe"
      },
      "execution_count": null,
      "outputs": [
        {
          "output_type": "stream",
          "name": "stdout",
          "text": [
            "$$$$$$$$$$$$$$$\n",
            "$$$$$$$$$$$$$$$\n",
            "$$$$$$$$$$$$$$$\n",
            "$$$$$$$$$$$$$$$\n",
            "$$$$$$$$$$$$$$$\n",
            "$$$$$$$$$$$$$$$\n"
          ]
        }
      ]
    },
    {
      "cell_type": "code",
      "source": [
        "# No return and no param\n",
        "def welcome():\n",
        "  print(\"Welcome to learn python\")\n",
        "\n",
        "welcome()\n"
      ],
      "metadata": {
        "colab": {
          "base_uri": "https://localhost:8080/"
        },
        "id": "FQHdt1iUesMh",
        "outputId": "ad0639b4-f6a3-4f04-aa6e-e306e24b7540"
      },
      "execution_count": null,
      "outputs": [
        {
          "output_type": "stream",
          "name": "stdout",
          "text": [
            "Welcome to learn python\n"
          ]
        }
      ]
    },
    {
      "cell_type": "code",
      "source": [
        "# No return and with param\n",
        "def welcome(display):\n",
        "  print(\"Welcome to learn \", display)\n",
        "\n",
        "welcome(\"Java\")"
      ],
      "metadata": {
        "colab": {
          "base_uri": "https://localhost:8080/"
        },
        "id": "kxoEzPNVfFuP",
        "outputId": "5946aa3a-c3ad-4c35-f36c-4cae9ec4c4db"
      },
      "execution_count": null,
      "outputs": [
        {
          "output_type": "stream",
          "name": "stdout",
          "text": [
            "Welcome to learn  Java\n"
          ]
        }
      ]
    },
    {
      "cell_type": "code",
      "source": [
        "# value return and with param\n",
        "def Add(a,b):\n",
        "  return a + b\n",
        "\n",
        "result = Add(25,69)\n",
        "print(\"Sum of \",result)"
      ],
      "metadata": {
        "colab": {
          "base_uri": "https://localhost:8080/"
        },
        "id": "8Vaa1blGfu8Y",
        "outputId": "44caf930-9b81-4b36-81b9-c1d6cb507c04"
      },
      "execution_count": null,
      "outputs": [
        {
          "output_type": "stream",
          "name": "stdout",
          "text": [
            "Sum of  94\n"
          ]
        }
      ]
    },
    {
      "cell_type": "code",
      "source": [
        "# Lamda function\n",
        "#add = lambda a, b = a + b\n",
        "print(Add(5,8))\n"
      ],
      "metadata": {
        "colab": {
          "base_uri": "https://localhost:8080/"
        },
        "id": "DVdSXm87g1Jw",
        "outputId": "58442a80-9798-4f82-ccc9-6ec28a068914"
      },
      "execution_count": null,
      "outputs": [
        {
          "output_type": "stream",
          "name": "stdout",
          "text": [
            "13\n"
          ]
        }
      ]
    },
    {
      "cell_type": "code",
      "source": [
        "#Error handling\n",
        "try:\n",
        "  x=1/0\n",
        "except:\n",
        "  print(\"not divisible by zero\")\n",
        "finally:\n",
        "  print(\"Done\")\n",
        "\n"
      ],
      "metadata": {
        "colab": {
          "base_uri": "https://localhost:8080/"
        },
        "id": "WZvkx0x2iZc3",
        "outputId": "8de0f3fd-aa95-4fb9-fa79-884f1bd48a48"
      },
      "execution_count": null,
      "outputs": [
        {
          "output_type": "stream",
          "name": "stdout",
          "text": [
            "not divisible by zero\n",
            "Done\n"
          ]
        }
      ]
    },
    {
      "cell_type": "code",
      "source": [
        "import pandas as pd # Analysis library\n",
        "import seaborn as sns # Data Visualization\n"
      ],
      "metadata": {
        "id": "W3bjFqZdV-iw"
      },
      "execution_count": null,
      "outputs": []
    }
  ]
}